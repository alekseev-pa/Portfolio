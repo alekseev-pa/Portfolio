{
 "cells": [
  {
   "cell_type": "markdown",
   "metadata": {},
   "source": [
    "# Ритейл — Анализ программы лояльности"
   ]
  },
  {
   "cell_type": "markdown",
   "metadata": {},
   "source": [
    "### Задача**:**\n",
    "\n",
    "Проанализировать программу лояльности магазина.\n",
    "\n",
    "### Цель**:**\n",
    "Оценить результаты внедрения программы лояльности, понять насколько сработала программа лояльности, стоит ли ее использовать дальше.\n",
    "\n",
    "### Задачи проекта: \n",
    "- провести исследовательский анализ данных показать общую картину;\n",
    "- получить основные ритейл-метрики по когортам у клиентов внутри программы лояльности и вне ее;\n",
    "- проанализировать насколько сработала текущая программа лояльности;\n",
    "- проверить гипотезы;"
   ]
  },
  {
   "cell_type": "markdown",
   "metadata": {},
   "source": [
    "#### Шаг 1. Подготовка данных\n",
    "   - Замените названия столбцов\n",
    "   - Проверьте пропуски и типы данных\n",
    "   - Добавить отдельный столбец дат\n",
    "   - Проверить и удалить дубликаты\n",
    "   - Проверить аномальные значения\n",
    "   - Добавить столбец суммы чека"
   ]
  },
  {
   "cell_type": "markdown",
   "metadata": {},
   "source": [
    "#### Шаг 2. Исследовательский анализ данных\n",
    "- Сколько всего событий в логе\n",
    "- Сколько всего пользователей в логе\n",
    "- Сколько всего товаров в логе\n",
    "- Какие самые популярные товары\n",
    "- Какое количество магазинов\n",
    "- Динамаика продаж по магазинам\n",
    "- Сколько в среднем покупок приходится на пользователя?\n",
    "- За какой период представлены данные? Найти максимальную и минимальную дату. Построить гистограмму по дате и времени\n",
    "- определить критерии разбиения на когорты"
   ]
  },
  {
   "cell_type": "markdown",
   "metadata": {},
   "source": [
    "#### Шаг 3. Решение основных вопросов заказчика\n",
    "- расчет основных метрик: середний чек, среднее количество покупок на пользователя, LTV\n",
    "- расчет основных метрик в разрезе магазинов\n",
    "- расчет основных метрик в разрезе когорт"
   ]
  },
  {
   "cell_type": "markdown",
   "metadata": {},
   "source": [
    "#### Шаг 4. Проверка статистических гипотез\n",
    "- определение и проверка двух нулевых гипотез:\n",
    "1. Н0 - Средние чеки клиентов участвующих и неучаствующих в программе лояльности равны\n",
    "2. Н0 - Среднее количество покупок на клиентов участвующих и неучаствующих в программе лояльности равны"
   ]
  },
  {
   "cell_type": "markdown",
   "metadata": {},
   "source": [
    "#### Шаг 5. Выводы для заказчика\n",
    "- выводы\n",
    "- рекомендации"
   ]
  },
  {
   "cell_type": "code",
   "execution_count": 1,
   "metadata": {},
   "outputs": [],
   "source": [
    "import pandas as pd\n",
    "import seaborn as sns\n",
    "import matplotlib.pyplot as plt\n",
    "import numpy as np\n",
    "import plotly.express as px\n",
    "from scipy import stats as st"
   ]
  },
  {
   "cell_type": "markdown",
   "metadata": {},
   "source": [
    "#### Шаг 1. Подготовка данных"
   ]
  },
  {
   "cell_type": "code",
   "execution_count": 2,
   "metadata": {},
   "outputs": [],
   "source": [
    "df = pd.read_csv('retail_dataset.csv')\n",
    "prod_df = pd.read_csv('product_codes.csv')"
   ]
  },
  {
   "cell_type": "code",
   "execution_count": 3,
   "metadata": {},
   "outputs": [
    {
     "name": "stdout",
     "output_type": "stream",
     "text": [
      "<class 'pandas.core.frame.DataFrame'>\n",
      "RangeIndex: 9969 entries, 0 to 9968\n",
      "Data columns (total 2 columns):\n",
      " #   Column         Non-Null Count  Dtype  \n",
      "---  ------         --------------  -----  \n",
      " 0   productID      9969 non-null   object \n",
      " 1   price_per_one  9969 non-null   float64\n",
      "dtypes: float64(1), object(1)\n",
      "memory usage: 155.9+ KB\n"
     ]
    }
   ],
   "source": [
    "prod_df.info()"
   ]
  },
  {
   "cell_type": "code",
   "execution_count": 4,
   "metadata": {},
   "outputs": [],
   "source": [
    "prod_df = prod_df.rename(columns={'productID':'item_id'})"
   ]
  },
  {
   "cell_type": "code",
   "execution_count": 5,
   "metadata": {},
   "outputs": [
    {
     "name": "stdout",
     "output_type": "stream",
     "text": [
      "количество уникальных продуктов: 3159\n",
      "Общее количество записей по ценам продуктов: 9969\n"
     ]
    }
   ],
   "source": [
    "print('количество уникальных продуктов:',prod_df.item_id.nunique())\n",
    "print('Общее количество записей по ценам продуктов:',prod_df.item_id.count())"
   ]
  },
  {
   "cell_type": "code",
   "execution_count": 6,
   "metadata": {},
   "outputs": [
    {
     "data": {
      "text/plain": [
       "0"
      ]
     },
     "execution_count": 6,
     "metadata": {},
     "output_type": "execute_result"
    }
   ],
   "source": [
    "prod_df.duplicated().sum()"
   ]
  },
  {
   "cell_type": "code",
   "execution_count": 7,
   "metadata": {},
   "outputs": [
    {
     "data": {
      "text/plain": [
       "item_id          382\n",
       "price_per_one    382\n",
       "dtype: int64"
      ]
     },
     "execution_count": 7,
     "metadata": {},
     "output_type": "execute_result"
    }
   ],
   "source": [
    "prod_df[prod_df.price_per_one == 0].count()"
   ]
  },
  {
   "cell_type": "code",
   "execution_count": 8,
   "metadata": {},
   "outputs": [
    {
     "data": {
      "text/html": [
       "<div>\n",
       "<style scoped>\n",
       "    .dataframe tbody tr th:only-of-type {\n",
       "        vertical-align: middle;\n",
       "    }\n",
       "\n",
       "    .dataframe tbody tr th {\n",
       "        vertical-align: top;\n",
       "    }\n",
       "\n",
       "    .dataframe thead th {\n",
       "        text-align: right;\n",
       "    }\n",
       "</style>\n",
       "<table border=\"1\" class=\"dataframe\">\n",
       "  <thead>\n",
       "    <tr style=\"text-align: right;\">\n",
       "      <th></th>\n",
       "      <th>item_id</th>\n",
       "      <th>count</th>\n",
       "      <th>min</th>\n",
       "      <th>max</th>\n",
       "      <th>mean</th>\n",
       "    </tr>\n",
       "  </thead>\n",
       "  <tbody>\n",
       "    <tr>\n",
       "      <th>381</th>\n",
       "      <td>POST</td>\n",
       "      <td>15</td>\n",
       "      <td>0.0</td>\n",
       "      <td>40.00</td>\n",
       "      <td>16.638000</td>\n",
       "    </tr>\n",
       "    <tr>\n",
       "      <th>272</th>\n",
       "      <td>79321</td>\n",
       "      <td>11</td>\n",
       "      <td>0.0</td>\n",
       "      <td>12.46</td>\n",
       "      <td>7.013636</td>\n",
       "    </tr>\n",
       "    <tr>\n",
       "      <th>284</th>\n",
       "      <td>84406B</td>\n",
       "      <td>10</td>\n",
       "      <td>0.0</td>\n",
       "      <td>8.29</td>\n",
       "      <td>4.253000</td>\n",
       "    </tr>\n",
       "    <tr>\n",
       "      <th>109</th>\n",
       "      <td>22112</td>\n",
       "      <td>9</td>\n",
       "      <td>0.0</td>\n",
       "      <td>12.72</td>\n",
       "      <td>7.543333</td>\n",
       "    </tr>\n",
       "    <tr>\n",
       "      <th>79</th>\n",
       "      <td>21673</td>\n",
       "      <td>9</td>\n",
       "      <td>0.0</td>\n",
       "      <td>3.36</td>\n",
       "      <td>1.812222</td>\n",
       "    </tr>\n",
       "    <tr>\n",
       "      <th>...</th>\n",
       "      <td>...</td>\n",
       "      <td>...</td>\n",
       "      <td>...</td>\n",
       "      <td>...</td>\n",
       "      <td>...</td>\n",
       "    </tr>\n",
       "    <tr>\n",
       "      <th>95</th>\n",
       "      <td>21841</td>\n",
       "      <td>1</td>\n",
       "      <td>0.0</td>\n",
       "      <td>0.00</td>\n",
       "      <td>0.000000</td>\n",
       "    </tr>\n",
       "    <tr>\n",
       "      <th>91</th>\n",
       "      <td>21805</td>\n",
       "      <td>1</td>\n",
       "      <td>0.0</td>\n",
       "      <td>0.00</td>\n",
       "      <td>0.000000</td>\n",
       "    </tr>\n",
       "    <tr>\n",
       "      <th>295</th>\n",
       "      <td>84546</td>\n",
       "      <td>1</td>\n",
       "      <td>0.0</td>\n",
       "      <td>0.00</td>\n",
       "      <td>0.000000</td>\n",
       "    </tr>\n",
       "    <tr>\n",
       "      <th>231</th>\n",
       "      <td>35644</td>\n",
       "      <td>1</td>\n",
       "      <td>0.0</td>\n",
       "      <td>0.00</td>\n",
       "      <td>0.000000</td>\n",
       "    </tr>\n",
       "    <tr>\n",
       "      <th>329</th>\n",
       "      <td>84967B</td>\n",
       "      <td>1</td>\n",
       "      <td>0.0</td>\n",
       "      <td>0.00</td>\n",
       "      <td>0.000000</td>\n",
       "    </tr>\n",
       "  </tbody>\n",
       "</table>\n",
       "<p>382 rows × 5 columns</p>\n",
       "</div>"
      ],
      "text/plain": [
       "    item_id  count  min    max       mean\n",
       "381    POST     15  0.0  40.00  16.638000\n",
       "272   79321     11  0.0  12.46   7.013636\n",
       "284  84406B     10  0.0   8.29   4.253000\n",
       "109   22112      9  0.0  12.72   7.543333\n",
       "79    21673      9  0.0   3.36   1.812222\n",
       "..      ...    ...  ...    ...        ...\n",
       "95    21841      1  0.0   0.00   0.000000\n",
       "91    21805      1  0.0   0.00   0.000000\n",
       "295   84546      1  0.0   0.00   0.000000\n",
       "231   35644      1  0.0   0.00   0.000000\n",
       "329  84967B      1  0.0   0.00   0.000000\n",
       "\n",
       "[382 rows x 5 columns]"
      ]
     },
     "execution_count": 8,
     "metadata": {},
     "output_type": "execute_result"
    }
   ],
   "source": [
    "zero_price_items = prod_df[prod_df.price_per_one == 0].item_id.unique()\n",
    "prod_df[prod_df.item_id.isin(zero_price_items)].sort_values(by='item_id').groupby('item_id')\\\n",
    "                                     .agg({'price_per_one':['count','min', 'max', 'mean']}).price_per_one\\\n",
    "                                     .reset_index().sort_values(by='count', ascending=False)"
   ]
  },
  {
   "cell_type": "code",
   "execution_count": 10,
   "metadata": {},
   "outputs": [
    {
     "name": "stdout",
     "output_type": "stream",
     "text": [
      "<class 'pandas.core.frame.DataFrame'>\n",
      "Int64Index: 3159 entries, 3150 to 3158\n",
      "Data columns (total 5 columns):\n",
      " #   Column   Non-Null Count  Dtype  \n",
      "---  ------   --------------  -----  \n",
      " 0   item_id  3159 non-null   object \n",
      " 1   count    3159 non-null   int64  \n",
      " 2   min      3159 non-null   float64\n",
      " 3   max      3159 non-null   float64\n",
      " 4   mean     3159 non-null   float64\n",
      "dtypes: float64(3), int64(1), object(1)\n",
      "memory usage: 148.1+ KB\n"
     ]
    }
   ],
   "source": [
    "prod_df_piv = prod_df.groupby('item_id')\\\n",
    "                     .agg({'price_per_one':['count','min', 'max', 'mean']}).price_per_one\\\n",
    "                     .reset_index().sort_values(by='count', ascending=False)\n",
    "\n",
    "prod_df_piv.head(10)\n",
    "prod_df_piv.info()"
   ]
  },
  {
   "cell_type": "markdown",
   "metadata": {},
   "source": [
    "Количество уникальных продуктов: 3159<br>\n",
    "Общее количество записей по ценам продуктов: 9969<br>\n",
    "Для 382 позиций указана нулевая цена<br>\n",
    "Для 2419 продуктов из файла есть записи с разными ценами. Может быть несколько причин этому: цены менялись в течении времени (время установления цен нам не дано), ошибка в выгрузке, разные цены в разных магазинах. Для корректного объединения таблиц и дальнейшей работы с ними нам нужно иметь только одно значение цены для каждго продукта. Пока уточнить причину разных цен невозможно для целей проекта будем использовать среднюю цену для каждого продукта. "
   ]
  },
  {
   "cell_type": "code",
   "execution_count": 11,
   "metadata": {},
   "outputs": [
    {
     "data": {
      "text/html": [
       "<div>\n",
       "<style scoped>\n",
       "    .dataframe tbody tr th:only-of-type {\n",
       "        vertical-align: middle;\n",
       "    }\n",
       "\n",
       "    .dataframe tbody tr th {\n",
       "        vertical-align: top;\n",
       "    }\n",
       "\n",
       "    .dataframe thead th {\n",
       "        text-align: right;\n",
       "    }\n",
       "</style>\n",
       "<table border=\"1\" class=\"dataframe\">\n",
       "  <thead>\n",
       "    <tr style=\"text-align: right;\">\n",
       "      <th></th>\n",
       "      <th>item_id</th>\n",
       "      <th>price_per_one</th>\n",
       "    </tr>\n",
       "  </thead>\n",
       "  <tbody>\n",
       "    <tr>\n",
       "      <th>3150</th>\n",
       "      <td>DOT</td>\n",
       "      <td>278.734425</td>\n",
       "    </tr>\n",
       "    <tr>\n",
       "      <th>3151</th>\n",
       "      <td>M</td>\n",
       "      <td>253.765932</td>\n",
       "    </tr>\n",
       "    <tr>\n",
       "      <th>3153</th>\n",
       "      <td>S</td>\n",
       "      <td>30.125172</td>\n",
       "    </tr>\n",
       "  </tbody>\n",
       "</table>\n",
       "</div>"
      ],
      "text/plain": [
       "     item_id  price_per_one\n",
       "3150     DOT     278.734425\n",
       "3151       M     253.765932\n",
       "3153       S      30.125172"
      ]
     },
     "execution_count": 11,
     "metadata": {},
     "output_type": "execute_result"
    }
   ],
   "source": [
    "prod_df_piv = prod_df_piv.loc[:,['item_id', 'mean']].rename(columns={'mean':'price_per_one'})\n",
    "prod_df_piv.head(3)"
   ]
  },
  {
   "cell_type": "code",
   "execution_count": 12,
   "metadata": {},
   "outputs": [
    {
     "name": "stdout",
     "output_type": "stream",
     "text": [
      "<class 'pandas.core.frame.DataFrame'>\n",
      "RangeIndex: 105335 entries, 0 to 105334\n",
      "Data columns (total 7 columns):\n",
      " #   Column           Non-Null Count   Dtype  \n",
      "---  ------           --------------   -----  \n",
      " 0   purchaseid       105335 non-null  object \n",
      " 1   item_ID          105335 non-null  object \n",
      " 2   Quantity         105335 non-null  int64  \n",
      " 3   purchasedate     105335 non-null  object \n",
      " 4   CustomerID       69125 non-null   float64\n",
      " 5   ShopID           105335 non-null  object \n",
      " 6   loyalty_program  105335 non-null  float64\n",
      "dtypes: float64(2), int64(1), object(4)\n",
      "memory usage: 5.6+ MB\n"
     ]
    }
   ],
   "source": [
    "df.info()"
   ]
  },
  {
   "cell_type": "code",
   "execution_count": 13,
   "metadata": {},
   "outputs": [
    {
     "data": {
      "text/html": [
       "<div>\n",
       "<style scoped>\n",
       "    .dataframe tbody tr th:only-of-type {\n",
       "        vertical-align: middle;\n",
       "    }\n",
       "\n",
       "    .dataframe tbody tr th {\n",
       "        vertical-align: top;\n",
       "    }\n",
       "\n",
       "    .dataframe thead th {\n",
       "        text-align: right;\n",
       "    }\n",
       "</style>\n",
       "<table border=\"1\" class=\"dataframe\">\n",
       "  <thead>\n",
       "    <tr style=\"text-align: right;\">\n",
       "      <th></th>\n",
       "      <th>purchaseid</th>\n",
       "      <th>item_ID</th>\n",
       "      <th>Quantity</th>\n",
       "      <th>purchasedate</th>\n",
       "      <th>CustomerID</th>\n",
       "      <th>ShopID</th>\n",
       "      <th>loyalty_program</th>\n",
       "    </tr>\n",
       "  </thead>\n",
       "  <tbody>\n",
       "    <tr>\n",
       "      <th>0</th>\n",
       "      <td>538280</td>\n",
       "      <td>21873</td>\n",
       "      <td>11</td>\n",
       "      <td>2016-12-10 12:50:00</td>\n",
       "      <td>18427.0</td>\n",
       "      <td>Shop 0</td>\n",
       "      <td>0.0</td>\n",
       "    </tr>\n",
       "    <tr>\n",
       "      <th>1</th>\n",
       "      <td>538862</td>\n",
       "      <td>22195</td>\n",
       "      <td>0</td>\n",
       "      <td>2016-12-14 14:11:00</td>\n",
       "      <td>22389.0</td>\n",
       "      <td>Shop 0</td>\n",
       "      <td>1.0</td>\n",
       "    </tr>\n",
       "    <tr>\n",
       "      <th>2</th>\n",
       "      <td>538855</td>\n",
       "      <td>21239</td>\n",
       "      <td>7</td>\n",
       "      <td>2016-12-14 13:50:00</td>\n",
       "      <td>22182.0</td>\n",
       "      <td>Shop 0</td>\n",
       "      <td>1.0</td>\n",
       "    </tr>\n",
       "  </tbody>\n",
       "</table>\n",
       "</div>"
      ],
      "text/plain": [
       "  purchaseid item_ID  Quantity         purchasedate  CustomerID  ShopID  \\\n",
       "0     538280   21873        11  2016-12-10 12:50:00     18427.0  Shop 0   \n",
       "1     538862   22195         0  2016-12-14 14:11:00     22389.0  Shop 0   \n",
       "2     538855   21239         7  2016-12-14 13:50:00     22182.0  Shop 0   \n",
       "\n",
       "   loyalty_program  \n",
       "0              0.0  \n",
       "1              1.0  \n",
       "2              1.0  "
      ]
     },
     "execution_count": 13,
     "metadata": {},
     "output_type": "execute_result"
    }
   ],
   "source": [
    "df.head(3)"
   ]
  },
  {
   "cell_type": "code",
   "execution_count": 14,
   "metadata": {},
   "outputs": [],
   "source": [
    "df = df.rename(columns={'item_ID':'item_id', \n",
    "                        'Quantity':'quantity', \n",
    "                        'purchasedate':'purchase_date',\n",
    "                        'CustomerID':'customer_id',\n",
    "                        'ShopID':'shop_id',\n",
    "                        'purchaseid':'purchase_id'})"
   ]
  },
  {
   "cell_type": "code",
   "execution_count": 15,
   "metadata": {},
   "outputs": [],
   "source": [
    "# приведем поле \"purchase_date\" к формату datetime\n",
    "df.purchase_date = pd.to_datetime(df.purchase_date, format='%Y-%m-%d %H:%M:%S')"
   ]
  },
  {
   "cell_type": "code",
   "execution_count": 16,
   "metadata": {},
   "outputs": [],
   "source": [
    "# добавим столбец с датой и приведем его к типу datetime64\n",
    "df['date'] = pd.to_datetime(df.loc[:,('purchase_date')]).dt.normalize()"
   ]
  },
  {
   "cell_type": "code",
   "execution_count": 17,
   "metadata": {},
   "outputs": [],
   "source": [
    "# приведем значение loyalty_program к типу integer\n",
    "df.loyalty_program = df.loyalty_program.astype('int')"
   ]
  },
  {
   "cell_type": "markdown",
   "metadata": {},
   "source": [
    "посмотрим количество дубликатов и удалим их"
   ]
  },
  {
   "cell_type": "code",
   "execution_count": 18,
   "metadata": {},
   "outputs": [
    {
     "data": {
      "text/plain": [
       "1033"
      ]
     },
     "execution_count": 18,
     "metadata": {},
     "output_type": "execute_result"
    }
   ],
   "source": [
    "df.duplicated().sum()\n",
    "# df[df.duplicated()==True].sort_values(by='purchase_id').head(10)"
   ]
  },
  {
   "cell_type": "code",
   "execution_count": 19,
   "metadata": {},
   "outputs": [],
   "source": [
    "# удалим дубликаты\n",
    "df = df.drop_duplicates()"
   ]
  },
  {
   "cell_type": "code",
   "execution_count": 20,
   "metadata": {},
   "outputs": [
    {
     "data": {
      "text/html": [
       "<div>\n",
       "<style scoped>\n",
       "    .dataframe tbody tr th:only-of-type {\n",
       "        vertical-align: middle;\n",
       "    }\n",
       "\n",
       "    .dataframe tbody tr th {\n",
       "        vertical-align: top;\n",
       "    }\n",
       "\n",
       "    .dataframe thead th {\n",
       "        text-align: right;\n",
       "    }\n",
       "</style>\n",
       "<table border=\"1\" class=\"dataframe\">\n",
       "  <thead>\n",
       "    <tr style=\"text-align: right;\">\n",
       "      <th></th>\n",
       "      <th>loyalty_program</th>\n",
       "      <th>purchase_id</th>\n",
       "    </tr>\n",
       "  </thead>\n",
       "  <tbody>\n",
       "    <tr>\n",
       "      <th>0</th>\n",
       "      <td>0</td>\n",
       "      <td>36148</td>\n",
       "    </tr>\n",
       "  </tbody>\n",
       "</table>\n",
       "</div>"
      ],
      "text/plain": [
       "   loyalty_program  purchase_id\n",
       "0                0        36148"
      ]
     },
     "execution_count": 20,
     "metadata": {},
     "output_type": "execute_result"
    }
   ],
   "source": [
    "# посмотрим не попали ли пользователи без id в \"программу лояльности\"\n",
    "df[df.customer_id.isnull()].groupby('loyalty_program',as_index=False).agg({'purchase_id':'count'})"
   ]
  },
  {
   "cell_type": "markdown",
   "metadata": {},
   "source": [
    "все пропуски в customer_id это клиенты не участвующие в программе лояльности. Видимой ошибки тут нет."
   ]
  },
  {
   "cell_type": "code",
   "execution_count": 21,
   "metadata": {},
   "outputs": [
    {
     "data": {
      "text/html": [
       "<div>\n",
       "<style scoped>\n",
       "    .dataframe tbody tr th:only-of-type {\n",
       "        vertical-align: middle;\n",
       "    }\n",
       "\n",
       "    .dataframe tbody tr th {\n",
       "        vertical-align: top;\n",
       "    }\n",
       "\n",
       "    .dataframe thead th {\n",
       "        text-align: right;\n",
       "    }\n",
       "</style>\n",
       "<table border=\"1\" class=\"dataframe\">\n",
       "  <thead>\n",
       "    <tr style=\"text-align: right;\">\n",
       "      <th></th>\n",
       "      <th>quantity</th>\n",
       "      <th>customer_id</th>\n",
       "      <th>loyalty_program</th>\n",
       "    </tr>\n",
       "  </thead>\n",
       "  <tbody>\n",
       "    <tr>\n",
       "      <th>count</th>\n",
       "      <td>104302.000000</td>\n",
       "      <td>68154.000000</td>\n",
       "      <td>104302.000000</td>\n",
       "    </tr>\n",
       "    <tr>\n",
       "      <th>mean</th>\n",
       "      <td>7.883003</td>\n",
       "      <td>21011.165889</td>\n",
       "      <td>0.224464</td>\n",
       "    </tr>\n",
       "    <tr>\n",
       "      <th>std</th>\n",
       "      <td>329.565540</td>\n",
       "      <td>1766.665163</td>\n",
       "      <td>0.417231</td>\n",
       "    </tr>\n",
       "    <tr>\n",
       "      <th>min</th>\n",
       "      <td>-74216.000000</td>\n",
       "      <td>18025.000000</td>\n",
       "      <td>0.000000</td>\n",
       "    </tr>\n",
       "    <tr>\n",
       "      <th>25%</th>\n",
       "      <td>0.000000</td>\n",
       "      <td>19533.000000</td>\n",
       "      <td>0.000000</td>\n",
       "    </tr>\n",
       "    <tr>\n",
       "      <th>50%</th>\n",
       "      <td>2.000000</td>\n",
       "      <td>20977.000000</td>\n",
       "      <td>0.000000</td>\n",
       "    </tr>\n",
       "    <tr>\n",
       "      <th>75%</th>\n",
       "      <td>7.000000</td>\n",
       "      <td>22633.000000</td>\n",
       "      <td>0.000000</td>\n",
       "    </tr>\n",
       "    <tr>\n",
       "      <th>max</th>\n",
       "      <td>74214.000000</td>\n",
       "      <td>23962.000000</td>\n",
       "      <td>1.000000</td>\n",
       "    </tr>\n",
       "  </tbody>\n",
       "</table>\n",
       "</div>"
      ],
      "text/plain": [
       "            quantity   customer_id  loyalty_program\n",
       "count  104302.000000  68154.000000    104302.000000\n",
       "mean        7.883003  21011.165889         0.224464\n",
       "std       329.565540   1766.665163         0.417231\n",
       "min    -74216.000000  18025.000000         0.000000\n",
       "25%         0.000000  19533.000000         0.000000\n",
       "50%         2.000000  20977.000000         0.000000\n",
       "75%         7.000000  22633.000000         0.000000\n",
       "max     74214.000000  23962.000000         1.000000"
      ]
     },
     "execution_count": 21,
     "metadata": {},
     "output_type": "execute_result"
    }
   ],
   "source": [
    "df.describe()"
   ]
  },
  {
   "cell_type": "markdown",
   "metadata": {},
   "source": [
    "в датасете есть запись с отрицательным количеством заказов. Изучим их и экстремальные значения"
   ]
  },
  {
   "cell_type": "code",
   "execution_count": 22,
   "metadata": {},
   "outputs": [
    {
     "name": "stdout",
     "output_type": "stream",
     "text": [
      "количество записей отрицательных заказов: 2076\n",
      "количество записей нормальных заказов: 69864\n",
      "сумма отрицательных заказов -119554\n",
      "сумма нормальных заказов: 941767\n",
      "количество нулевых заказов: 32362\n"
     ]
    }
   ],
   "source": [
    "print('количество записей отрицательных заказов:',df[df.quantity <0]['purchase_id'].count())\n",
    "print('количество записей нормальных заказов:',df[df.quantity >0]['purchase_id'].count())\n",
    "print('сумма отрицательных заказов', df[df.quantity <0]['quantity'].sum())\n",
    "print('сумма нормальных заказов:', df[df.quantity >0]['quantity'].sum())\n",
    "print('количество нулевых заказов:', df[df.quantity == 0]['purchase_id'].count())"
   ]
  },
  {
   "cell_type": "code",
   "execution_count": 23,
   "metadata": {},
   "outputs": [
    {
     "data": {
      "image/png": "[encoded data removed]",
      "text/plain": [
       "<Figure size 432x288 with 1 Axes>"
      ]
     },
     "metadata": {
      "needs_background": "light"
     },
     "output_type": "display_data"
    }
   ],
   "source": [
    "# посмотрим распределение количества товара в заказе отбросив экстремальные значения, чтоб видеть разброс\n",
    "df1 = df[df.quantity > -8000]\n",
    "df1 = df1[df1.quantity < 74214]\n",
    "\n",
    "x_values = pd.Series(range(0,len(df1)))\n",
    "plt.scatter(x_values, df1['quantity']);\n",
    "\n",
    "# sns.set(rc={'figure.figsize':(15,5)})\n",
    "# sns.boxplot(data=df1, x='Quantity');"
   ]
  },
  {
   "cell_type": "code",
   "execution_count": 24,
   "metadata": {},
   "outputs": [
    {
     "data": {
      "text/plain": [
       "array([24., 99.])"
      ]
     },
     "execution_count": 24,
     "metadata": {},
     "output_type": "execute_result"
    }
   ],
   "source": [
    "# посмотирим 95 и 99 пересентили датасета\n",
    "np.percentile(df.quantity, [95,99])"
   ]
  },
  {
   "cell_type": "code",
   "execution_count": 25,
   "metadata": {},
   "outputs": [
    {
     "data": {
      "text/plain": [
       "array([-3.,  0.])"
      ]
     },
     "execution_count": 25,
     "metadata": {},
     "output_type": "execute_result"
    }
   ],
   "source": [
    "# посмотирим 1 и 2 пересентили датасета\n",
    "np.percentile(df.quantity, [1,2])"
   ]
  },
  {
   "cell_type": "code",
   "execution_count": 26,
   "metadata": {},
   "outputs": [
    {
     "data": {
      "text/html": [
       "<div>\n",
       "<style scoped>\n",
       "    .dataframe tbody tr th:only-of-type {\n",
       "        vertical-align: middle;\n",
       "    }\n",
       "\n",
       "    .dataframe tbody tr th {\n",
       "        vertical-align: top;\n",
       "    }\n",
       "\n",
       "    .dataframe thead th {\n",
       "        text-align: right;\n",
       "    }\n",
       "</style>\n",
       "<table border=\"1\" class=\"dataframe\">\n",
       "  <thead>\n",
       "    <tr style=\"text-align: right;\">\n",
       "      <th></th>\n",
       "      <th>purchase_id</th>\n",
       "      <th>item_id</th>\n",
       "      <th>quantity</th>\n",
       "      <th>purchase_date</th>\n",
       "      <th>customer_id</th>\n",
       "      <th>shop_id</th>\n",
       "      <th>loyalty_program</th>\n",
       "      <th>date</th>\n",
       "    </tr>\n",
       "  </thead>\n",
       "  <tbody>\n",
       "    <tr>\n",
       "      <th>49411</th>\n",
       "      <td>C541433</td>\n",
       "      <td>23166</td>\n",
       "      <td>-74216</td>\n",
       "      <td>2017-01-18 10:17:00</td>\n",
       "      <td>18025.0</td>\n",
       "      <td>Shop 0</td>\n",
       "      <td>0</td>\n",
       "      <td>2017-01-18</td>\n",
       "    </tr>\n",
       "    <tr>\n",
       "      <th>69074</th>\n",
       "      <td>541431</td>\n",
       "      <td>23166</td>\n",
       "      <td>74214</td>\n",
       "      <td>2017-01-18 10:01:00</td>\n",
       "      <td>18025.0</td>\n",
       "      <td>Shop 0</td>\n",
       "      <td>0</td>\n",
       "      <td>2017-01-18</td>\n",
       "    </tr>\n",
       "  </tbody>\n",
       "</table>\n",
       "</div>"
      ],
      "text/plain": [
       "      purchase_id item_id  quantity       purchase_date  customer_id shop_id  \\\n",
       "49411     C541433   23166    -74216 2017-01-18 10:17:00      18025.0  Shop 0   \n",
       "69074      541431   23166     74214 2017-01-18 10:01:00      18025.0  Shop 0   \n",
       "\n",
       "       loyalty_program       date  \n",
       "49411                0 2017-01-18  \n",
       "69074                0 2017-01-18  "
      ]
     },
     "execution_count": 26,
     "metadata": {},
     "output_type": "execute_result"
    }
   ],
   "source": [
    "# посмотрим на обе записи с экстремальными значениями поля quantity нашего датасета\n",
    "df[df.quantity.isin([-74216,74214])]"
   ]
  },
  {
   "cell_type": "markdown",
   "metadata": {},
   "source": [
    "обе записи сформированы в один день с разницей в несколько минут для одного пользователя. Последовательность их указывает скорей всего на ошибочное проведение продажи и ее последующую отмену"
   ]
  },
  {
   "cell_type": "code",
   "execution_count": 27,
   "metadata": {},
   "outputs": [
    {
     "data": {
      "text/plain": [
       "array([20239., 23190., 19825., 22686., 20380., 18827.,    nan, 22714.,\n",
       "       20779., 19359., 19978., 18150., 20285., 18089., 21337., 18162.,\n",
       "       21502., 20949., 23381., 20359., 19884., 20684., 23520., 21995.,\n",
       "       22774., 19983., 19477., 19351., 22380., 18151., 18532., 21193.,\n",
       "       21280., 19302., 18760., 20631., 21931., 19854., 22883., 18096.,\n",
       "       18326., 20388., 22225., 19541., 23529., 23924., 21392., 23047.,\n",
       "       22000., 18265., 20590., 23855., 23356., 22985., 18772., 18180.,\n",
       "       21387., 23090., 21249., 19372., 20367., 19278., 22764., 20529.,\n",
       "       20306., 20325., 23121., 19999., 19255., 22867., 19087., 19637.,\n",
       "       22178., 20322., 20900., 23720., 18391., 21475., 18113., 21052.,\n",
       "       22540., 20475., 21824., 23797., 20105., 23754., 20184., 23107.,\n",
       "       18238., 21870., 18729., 22396., 21214., 21543., 20894., 22986.,\n",
       "       23748., 22994., 18768., 20122., 18454., 22286., 22909., 23068.,\n",
       "       19835., 22607., 22409., 20970., 18794., 21560., 18092., 20990.,\n",
       "       18946., 20166., 23016., 20757., 19174., 22460., 18777., 18153.,\n",
       "       23935., 18257., 23909., 20412., 21712., 21181., 22576., 22232.,\n",
       "       18328., 22082., 22892., 23902., 23227., 23772., 22664., 20873.,\n",
       "       18264., 23633., 20008., 22750., 18295., 23544., 20346., 18388.,\n",
       "       22602., 18626., 22723., 20181., 19855., 22537., 19160., 19137.,\n",
       "       20700., 21706., 19885., 21912., 18345., 20387., 19049., 22458.,\n",
       "       18305., 23851., 18106., 21281., 23083., 19134., 19508., 23101.,\n",
       "       19456., 20206., 18116., 20445., 20375., 20508., 21506., 20521.,\n",
       "       23270., 18786., 20919., 20110., 19569., 18141., 19446., 21192.,\n",
       "       22365., 22552., 23255., 23129., 18636., 22101., 22554., 21812.,\n",
       "       21429., 23869., 20304., 22335., 18781., 19892., 18974., 20318.,\n",
       "       18331., 20121., 21008., 23603., 23379., 21037., 19792., 19786.,\n",
       "       21319., 18622., 18304., 21513., 23948., 19213., 20528., 19048.,\n",
       "       19943., 20738., 23334., 22072., 18792., 18757., 19728., 19347.,\n",
       "       19100., 22233., 18610., 20456., 22675., 19075., 21803., 22910.,\n",
       "       19620., 20120., 18432., 19711., 23847., 20141., 18587., 20176.,\n",
       "       19127., 18998., 21343., 19971., 20825., 18815., 20344., 20577.,\n",
       "       18888., 18155., 20338., 21234., 18531., 20780., 19988., 22349.,\n",
       "       20640., 20427., 19764., 22229., 21487., 19859., 18218., 18546.,\n",
       "       22237., 19185., 22634., 22826., 21829., 21813., 21317., 22773.,\n",
       "       20574., 20586., 18680., 23401., 18476., 22029., 23260., 20758.,\n",
       "       18805., 20969., 19710., 20068., 20860., 22748., 20371., 18789.,\n",
       "       23929., 23085., 21063., 20094., 21176., 20067., 21517., 18820.,\n",
       "       19448., 20991., 18945., 18461., 20439., 22392., 19890., 21985.,\n",
       "       22384., 22496., 22449., 23939., 18797., 23499., 19608., 23788.,\n",
       "       21030., 20069., 18360., 22696., 22461., 23956., 23904., 18044.,\n",
       "       18642., 19394., 18400., 23291., 21773., 22182., 23308., 20858.,\n",
       "       21944., 22918., 21535., 18173., 22149., 19908., 21840., 18284.,\n",
       "       18025., 18362., 18508., 20836., 21456., 20772., 21595., 22103.,\n",
       "       19760., 19771., 22671., 20414., 23734., 18989., 21721., 18219.,\n",
       "       23820., 20723., 19798., 18650., 23354., 20850., 23804., 20960.,\n",
       "       20718., 22674., 18841., 18041., 18700., 18549., 23744., 19008.,\n",
       "       18156., 22577., 18776., 22805., 21692., 18659., 18316., 19562.,\n",
       "       18399., 20154., 21632., 19974., 23905., 18184., 22770., 23288.,\n",
       "       18769., 23198., 19812., 21958., 21510., 20801., 22859., 21618.,\n",
       "       19176., 23043., 21822., 19533., 23591., 23629., 22401., 23323.,\n",
       "       23409., 21197., 19404., 21752., 23226., 19969., 22741., 21417.,\n",
       "       20740., 21366., 18341., 18533., 21177., 18676., 22542., 18182.,\n",
       "       20786., 21708., 18630., 18232., 19726., 19896., 20978., 23872.,\n",
       "       19618., 19373., 20903., 21228., 22571., 21373., 20251., 18646.,\n",
       "       19868., 20088., 21914., 18074., 18877., 18427., 20297., 22258.,\n",
       "       18963., 20876., 20139., 19894., 19294., 23013., 18600., 19481.,\n",
       "       19175., 23766., 18544., 21269., 22393., 23630., 22727., 23910.,\n",
       "       20623., 23576., 21941., 22993., 18062., 23546., 20892., 22720.,\n",
       "       20448., 20083., 20213., 18668., 21147., 21817., 19836., 22249.,\n",
       "       22398., 21882., 19421., 19552., 19573., 18406., 23423., 22658.,\n",
       "       21601., 21275., 19363., 20423., 22038., 23478., 20546., 21652.,\n",
       "       23312., 19152., 18262., 20580., 22363., 20355., 18344., 18687.,\n",
       "       23056., 20868., 21105., 23375., 23498., 18300., 20020., 21695.,\n",
       "       20958., 21071., 23191., 22404., 23936., 22489., 23019., 23205.,\n",
       "       21144., 21058., 21561., 19167., 18726., 21619., 20358., 23763.,\n",
       "       22518., 22395., 21559.])"
      ]
     },
     "execution_count": 27,
     "metadata": {},
     "output_type": "execute_result"
    }
   ],
   "source": [
    "# посомтрим на уникальных пользователей, для которых были произведены продажи с отрицательным количеством\n",
    "neg_orders = df[df.quantity < 0]['customer_id'].unique()\n",
    "neg_orders"
   ]
  },
  {
   "cell_type": "code",
   "execution_count": 28,
   "metadata": {},
   "outputs": [
    {
     "name": "stderr",
     "output_type": "stream",
     "text": [
      "<ipython-input-28-19b71eeb0554>:2: UserWarning: Boolean Series key will be reindexed to match DataFrame index.\n",
      "  df[df.customer_id == 20239][df.item_id == '22776']\n"
     ]
    },
    {
     "data": {
      "text/html": [
       "<div>\n",
       "<style scoped>\n",
       "    .dataframe tbody tr th:only-of-type {\n",
       "        vertical-align: middle;\n",
       "    }\n",
       "\n",
       "    .dataframe tbody tr th {\n",
       "        vertical-align: top;\n",
       "    }\n",
       "\n",
       "    .dataframe thead th {\n",
       "        text-align: right;\n",
       "    }\n",
       "</style>\n",
       "<table border=\"1\" class=\"dataframe\">\n",
       "  <thead>\n",
       "    <tr style=\"text-align: right;\">\n",
       "      <th></th>\n",
       "      <th>purchase_id</th>\n",
       "      <th>item_id</th>\n",
       "      <th>quantity</th>\n",
       "      <th>purchase_date</th>\n",
       "      <th>customer_id</th>\n",
       "      <th>shop_id</th>\n",
       "      <th>loyalty_program</th>\n",
       "      <th>date</th>\n",
       "    </tr>\n",
       "  </thead>\n",
       "  <tbody>\n",
       "    <tr>\n",
       "      <th>64</th>\n",
       "      <td>C539944</td>\n",
       "      <td>22776</td>\n",
       "      <td>-2</td>\n",
       "      <td>2016-12-23 11:38:00</td>\n",
       "      <td>20239.0</td>\n",
       "      <td>Shop 0</td>\n",
       "      <td>0</td>\n",
       "      <td>2016-12-23</td>\n",
       "    </tr>\n",
       "    <tr>\n",
       "      <th>50953</th>\n",
       "      <td>539326</td>\n",
       "      <td>22776</td>\n",
       "      <td>11</td>\n",
       "      <td>2016-12-17 09:22:00</td>\n",
       "      <td>20239.0</td>\n",
       "      <td>Shop 0</td>\n",
       "      <td>0</td>\n",
       "      <td>2016-12-17</td>\n",
       "    </tr>\n",
       "    <tr>\n",
       "      <th>89023</th>\n",
       "      <td>542351</td>\n",
       "      <td>22776</td>\n",
       "      <td>11</td>\n",
       "      <td>2017-01-27 12:13:00</td>\n",
       "      <td>20239.0</td>\n",
       "      <td>Shop 0</td>\n",
       "      <td>0</td>\n",
       "      <td>2017-01-27</td>\n",
       "    </tr>\n",
       "  </tbody>\n",
       "</table>\n",
       "</div>"
      ],
      "text/plain": [
       "      purchase_id item_id  quantity       purchase_date  customer_id shop_id  \\\n",
       "64        C539944   22776        -2 2016-12-23 11:38:00      20239.0  Shop 0   \n",
       "50953      539326   22776        11 2016-12-17 09:22:00      20239.0  Shop 0   \n",
       "89023      542351   22776        11 2017-01-27 12:13:00      20239.0  Shop 0   \n",
       "\n",
       "       loyalty_program       date  \n",
       "64                   0 2016-12-23  \n",
       "50953                0 2016-12-17  \n",
       "89023                0 2017-01-27  "
      ]
     },
     "execution_count": 28,
     "metadata": {},
     "output_type": "execute_result"
    }
   ],
   "source": [
    "# проверим еще на одном пользователе наше предположение об отмене продажи\n",
    "df[df.customer_id == 20239][df.item_id == '22776']"
   ]
  },
  {
   "cell_type": "markdown",
   "metadata": {},
   "source": [
    "В датасете есть отрицательные значения количества. По всей видимости это или возврат или корректировка неверно внесенного заказа. На это указывает и префикс в purchase_id таких заказов<br>\n",
    "Уберем отрицательные (2076 записи) и нулевые (32362 записей) заказы из датасета. В рамках проета мы оцениваем эфективность внедрения программы лояльности через совершенные покупки разными когортами, записи с нулевыми покупками в данном контексте равнозначны отсутсвтию этих записей<br>\n",
    "Так же уберем после этого заказы, где количество единиц продукции больше 99 персентиля, чтоб исключить влияние выбросов"
   ]
  },
  {
   "cell_type": "code",
   "execution_count": 29,
   "metadata": {},
   "outputs": [
    {
     "data": {
      "text/plain": [
       "array([ 39., 119.])"
      ]
     },
     "execution_count": 29,
     "metadata": {},
     "output_type": "execute_result"
    }
   ],
   "source": [
    "df1 = df[df.quantity > 0]\n",
    "np.percentile(df1.quantity, [95,99])"
   ]
  },
  {
   "cell_type": "markdown",
   "metadata": {},
   "source": [
    "Для 99% пользователей количество товара в одной транзакции не более 119 единиц"
   ]
  },
  {
   "cell_type": "code",
   "execution_count": 30,
   "metadata": {},
   "outputs": [
    {
     "name": "stdout",
     "output_type": "stream",
     "text": [
      "<class 'pandas.core.frame.DataFrame'>\n",
      "Int64Index: 69186 entries, 0 to 105334\n",
      "Data columns (total 8 columns):\n",
      " #   Column           Non-Null Count  Dtype         \n",
      "---  ------           --------------  -----         \n",
      " 0   purchase_id      69186 non-null  object        \n",
      " 1   item_id          69186 non-null  object        \n",
      " 2   quantity         69186 non-null  int64         \n",
      " 3   purchase_date    69186 non-null  datetime64[ns]\n",
      " 4   customer_id      53232 non-null  float64       \n",
      " 5   shop_id          69186 non-null  object        \n",
      " 6   loyalty_program  69186 non-null  int64         \n",
      " 7   date             69186 non-null  datetime64[ns]\n",
      "dtypes: datetime64[ns](2), float64(1), int64(2), object(3)\n",
      "memory usage: 4.8+ MB\n"
     ]
    }
   ],
   "source": [
    "df1 = df1[df1.quantity <=np.percentile(df1.quantity, 99)]\n",
    "df1.info()"
   ]
  },
  {
   "cell_type": "code",
   "execution_count": 31,
   "metadata": {},
   "outputs": [
    {
     "name": "stdout",
     "output_type": "stream",
     "text": [
      "0\n"
     ]
    }
   ],
   "source": [
    "# проверим для всех ли продуктов из датасета есть цена за единицу в получившемся файле с ценами\n",
    "items_price = prod_df_piv.item_id.unique()\n",
    "items_df = df1.item_id.unique()\n",
    "no_price = []\n",
    "have_price = []\n",
    "for i in items_df:\n",
    "    if i in items_price:\n",
    "        have_price.append(i)\n",
    "    else:\n",
    "        no_price.append(i)\n",
    "print(len(no_price))\n",
    "# print(len(items_price), len(items_df))"
   ]
  },
  {
   "cell_type": "code",
   "execution_count": 32,
   "metadata": {},
   "outputs": [
    {
     "name": "stdout",
     "output_type": "stream",
     "text": [
      "<class 'pandas.core.frame.DataFrame'>\n",
      "Int64Index: 69186 entries, 0 to 69185\n",
      "Data columns (total 9 columns):\n",
      " #   Column           Non-Null Count  Dtype         \n",
      "---  ------           --------------  -----         \n",
      " 0   purchase_id      69186 non-null  object        \n",
      " 1   item_id          69186 non-null  object        \n",
      " 2   quantity         69186 non-null  int64         \n",
      " 3   purchase_date    69186 non-null  datetime64[ns]\n",
      " 4   customer_id      53232 non-null  float64       \n",
      " 5   shop_id          69186 non-null  object        \n",
      " 6   loyalty_program  69186 non-null  int64         \n",
      " 7   date             69186 non-null  datetime64[ns]\n",
      " 8   price_per_one    69186 non-null  float64       \n",
      "dtypes: datetime64[ns](2), float64(2), int64(2), object(3)\n",
      "memory usage: 5.3+ MB\n"
     ]
    }
   ],
   "source": [
    "# добавим в датасет цену за единицу продукта из таблицы 'prod_df_piv'\n",
    "df1 = df1.merge(prod_df_piv, on='item_id')\n",
    "df1.head(3)\n",
    "df1.info()"
   ]
  },
  {
   "cell_type": "code",
   "execution_count": 33,
   "metadata": {},
   "outputs": [
    {
     "data": {
      "text/html": [
       "<div>\n",
       "<style scoped>\n",
       "    .dataframe tbody tr th:only-of-type {\n",
       "        vertical-align: middle;\n",
       "    }\n",
       "\n",
       "    .dataframe tbody tr th {\n",
       "        vertical-align: top;\n",
       "    }\n",
       "\n",
       "    .dataframe thead th {\n",
       "        text-align: right;\n",
       "    }\n",
       "</style>\n",
       "<table border=\"1\" class=\"dataframe\">\n",
       "  <thead>\n",
       "    <tr style=\"text-align: right;\">\n",
       "      <th></th>\n",
       "      <th>purchase_id</th>\n",
       "      <th>item_id</th>\n",
       "      <th>quantity</th>\n",
       "      <th>purchase_date</th>\n",
       "      <th>customer_id</th>\n",
       "      <th>shop_id</th>\n",
       "      <th>loyalty_program</th>\n",
       "      <th>date</th>\n",
       "      <th>price_per_one</th>\n",
       "      <th>total_amt</th>\n",
       "      <th>year_month</th>\n",
       "    </tr>\n",
       "  </thead>\n",
       "  <tbody>\n",
       "    <tr>\n",
       "      <th>0</th>\n",
       "      <td>538280</td>\n",
       "      <td>21873</td>\n",
       "      <td>11</td>\n",
       "      <td>2016-12-10 12:50:00</td>\n",
       "      <td>18427.0</td>\n",
       "      <td>Shop 0</td>\n",
       "      <td>0</td>\n",
       "      <td>2016-12-10</td>\n",
       "      <td>1.81</td>\n",
       "      <td>19.91</td>\n",
       "      <td>2016-12</td>\n",
       "    </tr>\n",
       "    <tr>\n",
       "      <th>1</th>\n",
       "      <td>540418</td>\n",
       "      <td>21873</td>\n",
       "      <td>1</td>\n",
       "      <td>2017-01-07 11:04:00</td>\n",
       "      <td>NaN</td>\n",
       "      <td>Shop 0</td>\n",
       "      <td>0</td>\n",
       "      <td>2017-01-07</td>\n",
       "      <td>1.81</td>\n",
       "      <td>1.81</td>\n",
       "      <td>2017-01</td>\n",
       "    </tr>\n",
       "    <tr>\n",
       "      <th>2</th>\n",
       "      <td>541516</td>\n",
       "      <td>21873</td>\n",
       "      <td>2</td>\n",
       "      <td>2017-01-18 17:34:00</td>\n",
       "      <td>NaN</td>\n",
       "      <td>Shop 0</td>\n",
       "      <td>0</td>\n",
       "      <td>2017-01-18</td>\n",
       "      <td>1.81</td>\n",
       "      <td>3.62</td>\n",
       "      <td>2017-01</td>\n",
       "    </tr>\n",
       "  </tbody>\n",
       "</table>\n",
       "</div>"
      ],
      "text/plain": [
       "  purchase_id item_id  quantity       purchase_date  customer_id shop_id  \\\n",
       "0      538280   21873        11 2016-12-10 12:50:00      18427.0  Shop 0   \n",
       "1      540418   21873         1 2017-01-07 11:04:00          NaN  Shop 0   \n",
       "2      541516   21873         2 2017-01-18 17:34:00          NaN  Shop 0   \n",
       "\n",
       "   loyalty_program       date  price_per_one  total_amt year_month  \n",
       "0                0 2016-12-10           1.81      19.91    2016-12  \n",
       "1                0 2017-01-07           1.81       1.81    2017-01  \n",
       "2                0 2017-01-18           1.81       3.62    2017-01  "
      ]
     },
     "execution_count": 33,
     "metadata": {},
     "output_type": "execute_result"
    }
   ],
   "source": [
    "# добавим в датасет поле с общей суммой чека\n",
    "df1['total_amt'] = df1.apply(lambda row: row['quantity'] * row['price_per_one'], axis=1)\n",
    "df1['year_month'] = df1['purchase_date'].dt.to_period('M')\n",
    "\n",
    "df1.head(3)"
   ]
  },
  {
   "cell_type": "markdown",
   "metadata": {},
   "source": [
    "1. Данные по стоимости продуктов:<br>\n",
    "- Количество уникальных продуктов: 3159\n",
    "- Общее количество записей по ценам продуктов: 9969\n",
    "- Для 382 позиций указана нулевая цена\n",
    "- Для 2419 продуктов из файла есть записи с разными ценами. Может быть несколько причин этому: цены менялись в течении времени (время установления цен нам не дано), ошибка в выгрузке, разные цены в разных магазинах. Для корректного объединения таблиц и дальнейшей работы с ними нам нужно иметь только одно значение цены для каждго продукта. Для целей проекта использовали среднюю цену для каждого продукта. Данные требуют уточнений.\n",
    "<br>\n",
    "<br>\n",
    "2. Данные по продажам:<br>\n",
    "- в датасете по продажам есть записи с отрицательным количеством заказов. По всей видимости это или возврат или корректировка неверно внесенного заказа. На это указывает и префикс в purchase_id таких заказов\n",
    "- для анализа убрали отрицательные (2076 записи) и нулевые (32362 записей) заказы из датасета. В рамках проета мы оцениваем эфективность внедрения программы лояльности через совершенные покупки разными когортами, записи с нулевыми покупками в данном контексте равнозначны отсутсвтию этих записей\n",
    "- убрали заказы, где количество единиц продукции больше 99 персентиля (у 99% пользователей количество товара в одной транзакции не более 119 единиц), чтоб исключить влияние выбросов"
   ]
  },
  {
   "cell_type": "markdown",
   "metadata": {},
   "source": [
    "#### Шаг 2. Исследовательский анализ данных"
   ]
  },
  {
   "cell_type": "markdown",
   "metadata": {},
   "source": [
    "После этапа подготовки данных из первоначального датасета из 105335 записей с у нас осталось 69186 записей<br>\n",
    "Только для 53232 записей у нас есть id пользователя"
   ]
  },
  {
   "cell_type": "code",
   "execution_count": 34,
   "metadata": {},
   "outputs": [
    {
     "name": "stdout",
     "output_type": "stream",
     "text": [
      "количество уникальных идентифицированных пользователей: 1650\n",
      "среднее количество совершенных покупок на уникального пользователя: 32.3\n",
      "количество уникальных продуктов: 2771\n",
      "общее количество магазинов: 31\n"
     ]
    }
   ],
   "source": [
    "print('количество уникальных идентифицированных пользователей:', df1.customer_id.nunique())\n",
    "print('среднее количество совершенных покупок на уникального пользователя:', round(df1.customer_id.count() \n",
    "                                                                                   / df1.customer_id.nunique(),1))\n",
    "print('количество уникальных продуктов:', df1.item_id.nunique())\n",
    "print('общее количество магазинов:', df1.shop_id.nunique())"
   ]
  },
  {
   "cell_type": "code",
   "execution_count": 35,
   "metadata": {},
   "outputs": [
    {
     "data": {
      "text/html": [
       "<div>\n",
       "<style scoped>\n",
       "    .dataframe tbody tr th:only-of-type {\n",
       "        vertical-align: middle;\n",
       "    }\n",
       "\n",
       "    .dataframe tbody tr th {\n",
       "        vertical-align: top;\n",
       "    }\n",
       "\n",
       "    .dataframe thead th {\n",
       "        text-align: right;\n",
       "    }\n",
       "</style>\n",
       "<table border=\"1\" class=\"dataframe\">\n",
       "  <thead>\n",
       "    <tr style=\"text-align: right;\">\n",
       "      <th></th>\n",
       "      <th>item_id</th>\n",
       "      <th>quantity</th>\n",
       "    </tr>\n",
       "  </thead>\n",
       "  <tbody>\n",
       "    <tr>\n",
       "      <th>382</th>\n",
       "      <td>21212</td>\n",
       "      <td>6449</td>\n",
       "    </tr>\n",
       "    <tr>\n",
       "      <th>2500</th>\n",
       "      <td>85123A</td>\n",
       "      <td>5725</td>\n",
       "    </tr>\n",
       "    <tr>\n",
       "      <th>2482</th>\n",
       "      <td>85099B</td>\n",
       "      <td>5723</td>\n",
       "    </tr>\n",
       "    <tr>\n",
       "      <th>1013</th>\n",
       "      <td>22197</td>\n",
       "      <td>4161</td>\n",
       "    </tr>\n",
       "    <tr>\n",
       "      <th>1254</th>\n",
       "      <td>22469</td>\n",
       "      <td>3846</td>\n",
       "    </tr>\n",
       "    <tr>\n",
       "      <th>2321</th>\n",
       "      <td>84879</td>\n",
       "      <td>3768</td>\n",
       "    </tr>\n",
       "    <tr>\n",
       "      <th>1721</th>\n",
       "      <td>22961</td>\n",
       "      <td>3470</td>\n",
       "    </tr>\n",
       "    <tr>\n",
       "      <th>2358</th>\n",
       "      <td>84946</td>\n",
       "      <td>3255</td>\n",
       "    </tr>\n",
       "    <tr>\n",
       "      <th>1600</th>\n",
       "      <td>22834</td>\n",
       "      <td>3210</td>\n",
       "    </tr>\n",
       "    <tr>\n",
       "      <th>1153</th>\n",
       "      <td>22355</td>\n",
       "      <td>3170</td>\n",
       "    </tr>\n",
       "  </tbody>\n",
       "</table>\n",
       "</div>"
      ],
      "text/plain": [
       "     item_id  quantity\n",
       "382    21212      6449\n",
       "2500  85123A      5725\n",
       "2482  85099B      5723\n",
       "1013   22197      4161\n",
       "1254   22469      3846\n",
       "2321   84879      3768\n",
       "1721   22961      3470\n",
       "2358   84946      3255\n",
       "1600   22834      3210\n",
       "1153   22355      3170"
      ]
     },
     "execution_count": 35,
     "metadata": {},
     "output_type": "execute_result"
    }
   ],
   "source": [
    "# ТОП-10 самых продаваемых товаров (по количеству)\n",
    "df1.groupby('item_id', as_index=False).agg({'quantity':'sum'}).sort_values(by='quantity', ascending=False).head(10)"
   ]
  },
  {
   "cell_type": "code",
   "execution_count": 36,
   "metadata": {},
   "outputs": [
    {
     "data": {
      "image/png": "[encoded data removed]",
      "text/plain": [
       "<Figure size 1080x720 with 1 Axes>"
      ]
     },
     "metadata": {
      "needs_background": "light"
     },
     "output_type": "display_data"
    }
   ],
   "source": [
    "# количество операций по магазинам\n",
    "gr1 = df1.groupby('shop_id', as_index=False)\\\n",
    "    .agg({'quantity':'count'})\\\n",
    "    .sort_values(by='quantity', ascending=False)\n",
    "\n",
    "# fig = px.bar(gr1, x='shop_id', y='quantity',text_auto='.2s',\n",
    "#             title=\"Количество операций по магазинам за рассматриваемый период\")\n",
    "# fig.show()\n",
    "plt.figure(figsize=(15, 10))\n",
    "sns.barplot(data=gr1, x='quantity', y='shop_id')\n",
    "plt.title(\"Количество операций по магазинам за рассматриваемый период\")\n",
    "plt.xlabel('Количество операций')\n",
    "plt.ylabel('Магазины')\n",
    "plt.show()"
   ]
  },
  {
   "cell_type": "markdown",
   "metadata": {},
   "source": [
    "С большим отрывом лидером по количеству проведенных транзакций является Shop0"
   ]
  },
  {
   "cell_type": "code",
   "execution_count": 37,
   "metadata": {},
   "outputs": [
    {
     "data": {
      "image/png": "[encoded data removed]",
      "text/plain": [
       "<Figure size 1080x720 with 1 Axes>"
      ]
     },
     "metadata": {
      "needs_background": "light"
     },
     "output_type": "display_data"
    }
   ],
   "source": [
    "# количество проданных товаров по магазинам (в штуках)\n",
    "gr1 = df1.groupby('shop_id', as_index=False)\\\n",
    "    .agg({'quantity':'sum'})\\\n",
    "    .sort_values(by='quantity', ascending=False)\\\n",
    "\n",
    "plt.figure(figsize=(15, 10))\n",
    "sns.barplot(data=gr1, x='quantity', y='shop_id')\n",
    "plt.title(\"Количество проданных товаров по магазинам (в штуках) за рассматриваемый период\")\n",
    "plt.xlabel('Количество товаров')\n",
    "plt.ylabel('Магазины')\n",
    "plt.show()"
   ]
  },
  {
   "cell_type": "markdown",
   "metadata": {},
   "source": [
    "С большим отрывом лидером по количеству проданных единиц товаров является Shop0"
   ]
  },
  {
   "cell_type": "code",
   "execution_count": 38,
   "metadata": {},
   "outputs": [
    {
     "data": {
      "image/png": "[encoded data removed]",
      "text/plain": [
       "<Figure size 1080x720 with 1 Axes>"
      ]
     },
     "metadata": {
      "needs_background": "light"
     },
     "output_type": "display_data"
    }
   ],
   "source": [
    "# количество проданных товаров по магазинам (в деньгах)\n",
    "gr1 = df1.groupby('shop_id', as_index=False)\\\n",
    "    .agg({'total_amt':'sum'})\\\n",
    "    .sort_values(by='total_amt', ascending=False)\\\n",
    "\n",
    "# fig = px.bar(gr1, x='shop_id', y='total_amt',text_auto='.2s',\n",
    "#             title=\"Количество проданных товаров по магазинам (в деньгах) за рассматриваемый период\")\n",
    "# fig.show()\n",
    "plt.figure(figsize=(15, 10))\n",
    "sns.barplot(data=gr1, x='total_amt', y='shop_id')\n",
    "plt.title(\"Количество проданных товаров по магазинам (в деньгах) за рассматриваемый период\")\n",
    "plt.xlabel('Сумма продаж')\n",
    "plt.ylabel('Магазины')\n",
    "plt.show()"
   ]
  },
  {
   "cell_type": "markdown",
   "metadata": {},
   "source": [
    "С большим отрывом лидером по продажам (в деньгаз) является Shop0"
   ]
  },
  {
   "cell_type": "code",
   "execution_count": 39,
   "metadata": {},
   "outputs": [
    {
     "data": {
      "text/plain": [
       "0.8274727782956615"
      ]
     },
     "execution_count": 39,
     "metadata": {},
     "output_type": "execute_result"
    }
   ],
   "source": [
    "df1[df1.shop_id == 'Shop 0'].total_amt.sum()/df1.total_amt.sum()"
   ]
  },
  {
   "cell_type": "markdown",
   "metadata": {},
   "source": [
    "Абсолютным лидером в продажах является Shop0 (82%)"
   ]
  },
  {
   "cell_type": "code",
   "execution_count": 40,
   "metadata": {},
   "outputs": [
    {
     "name": "stdout",
     "output_type": "stream",
     "text": [
      "2016-12-01 00:00:00\n",
      "2017-02-28 00:00:00\n"
     ]
    }
   ],
   "source": [
    "print(df.date.min())\n",
    "print(df.date.max())"
   ]
  },
  {
   "cell_type": "markdown",
   "metadata": {},
   "source": [
    "Представленные в датасете данные за период с 01-12-2016 по 28-02-2017"
   ]
  },
  {
   "cell_type": "code",
   "execution_count": 41,
   "metadata": {
    "scrolled": true
   },
   "outputs": [
    {
     "data": {
      "image/png": "[encoded data removed]",
      "text/plain": [
       "<Figure size 1080x360 with 1 Axes>"
      ]
     },
     "metadata": {
      "needs_background": "light"
     },
     "output_type": "display_data"
    }
   ],
   "source": [
    "# динамика продаж по месяцам (в деньгах)\n",
    "gr = df1.groupby('year_month', as_index=False)\\\n",
    "    .agg({'total_amt':'sum'})\n",
    "gr['year_month'] = gr['year_month'].astype('str')\n",
    "\n",
    "plt.figure(figsize=(15, 5))\n",
    "plt.bar(gr['year_month'], gr['total_amt'])\n",
    "plt.title('Динамика продаж по месяцам (в деньгах)')\n",
    "plt.xlabel('Период (год-месяц)')\n",
    "plt.ylabel('Продажи')\n",
    "plt.show()"
   ]
  },
  {
   "cell_type": "markdown",
   "metadata": {},
   "source": [
    "наблюдается постепенное снижение продаж от месяца к месяцу на предоставленном отрезке времени <br>\n",
    "Для многоих сфер такая динамика в эти периоды может быть связана с сезонными колебаниями. Сказать точней можно только на основании данных по ётим месяцам предыдущих лет"
   ]
  },
  {
   "cell_type": "markdown",
   "metadata": {},
   "source": [
    "- Представленные в датасете данные за период с 01-12-2016 по 28-02-2017\n",
    "- количество уникальных идентифицированных пользователей: 1650\n",
    "- среднее количество совершенных покупок на уникального пользователя: 32.3\n",
    "- количество уникальных приобретенных продуктов: 2771\n",
    "- общее количество магазинов: 31\n",
    "- Абсолютным лидером в продажах является Shop_0 (82% всех продаж)\n",
    "- наблюдается постепенное снижение продаж от месяца к месяцу на предоставленном отрезке времени"
   ]
  },
  {
   "cell_type": "markdown",
   "metadata": {},
   "source": [
    "#### Шаг 3. Решение основных вопросов заказчика"
   ]
  },
  {
   "cell_type": "code",
   "execution_count": 42,
   "metadata": {},
   "outputs": [],
   "source": [
    "# середний чек, среднее количество покупок на пользователя\n",
    "avg1 = df1.groupby(['year_month','loyalty_program'],as_index=False)\\\n",
    "    .agg({'customer_id':'nunique','total_amt':'sum', 'quantity':'sum'})"
   ]
  },
  {
   "cell_type": "code",
   "execution_count": 43,
   "metadata": {},
   "outputs": [
    {
     "data": {
      "text/html": [
       "<div>\n",
       "<style scoped>\n",
       "    .dataframe tbody tr th:only-of-type {\n",
       "        vertical-align: middle;\n",
       "    }\n",
       "\n",
       "    .dataframe tbody tr th {\n",
       "        vertical-align: top;\n",
       "    }\n",
       "\n",
       "    .dataframe thead th {\n",
       "        text-align: right;\n",
       "    }\n",
       "</style>\n",
       "<table border=\"1\" class=\"dataframe\">\n",
       "  <thead>\n",
       "    <tr style=\"text-align: right;\">\n",
       "      <th></th>\n",
       "      <th>year_month</th>\n",
       "      <th>loyalty_program</th>\n",
       "      <th>customer_id</th>\n",
       "      <th>total_amt</th>\n",
       "      <th>quantity</th>\n",
       "      <th>avg_amt</th>\n",
       "      <th>avg_qty</th>\n",
       "    </tr>\n",
       "  </thead>\n",
       "  <tbody>\n",
       "    <tr>\n",
       "      <th>0</th>\n",
       "      <td>2016-12</td>\n",
       "      <td>0</td>\n",
       "      <td>551</td>\n",
       "      <td>560963.664759</td>\n",
       "      <td>182984</td>\n",
       "      <td>1018.1</td>\n",
       "      <td>332.1</td>\n",
       "    </tr>\n",
       "    <tr>\n",
       "      <th>1</th>\n",
       "      <td>2016-12</td>\n",
       "      <td>1</td>\n",
       "      <td>315</td>\n",
       "      <td>213316.636275</td>\n",
       "      <td>59066</td>\n",
       "      <td>677.2</td>\n",
       "      <td>187.5</td>\n",
       "    </tr>\n",
       "    <tr>\n",
       "      <th>2</th>\n",
       "      <td>2017-01</td>\n",
       "      <td>0</td>\n",
       "      <td>503</td>\n",
       "      <td>494526.183510</td>\n",
       "      <td>173621</td>\n",
       "      <td>983.2</td>\n",
       "      <td>345.2</td>\n",
       "    </tr>\n",
       "    <tr>\n",
       "      <th>3</th>\n",
       "      <td>2017-01</td>\n",
       "      <td>1</td>\n",
       "      <td>225</td>\n",
       "      <td>130363.720265</td>\n",
       "      <td>46387</td>\n",
       "      <td>579.4</td>\n",
       "      <td>206.2</td>\n",
       "    </tr>\n",
       "    <tr>\n",
       "      <th>4</th>\n",
       "      <td>2017-02</td>\n",
       "      <td>0</td>\n",
       "      <td>488</td>\n",
       "      <td>396511.918329</td>\n",
       "      <td>135159</td>\n",
       "      <td>812.5</td>\n",
       "      <td>277.0</td>\n",
       "    </tr>\n",
       "    <tr>\n",
       "      <th>5</th>\n",
       "      <td>2017-02</td>\n",
       "      <td>1</td>\n",
       "      <td>250</td>\n",
       "      <td>151737.278473</td>\n",
       "      <td>53375</td>\n",
       "      <td>606.9</td>\n",
       "      <td>213.5</td>\n",
       "    </tr>\n",
       "  </tbody>\n",
       "</table>\n",
       "</div>"
      ],
      "text/plain": [
       "  year_month  loyalty_program  customer_id      total_amt  quantity  avg_amt  \\\n",
       "0    2016-12                0          551  560963.664759    182984   1018.1   \n",
       "1    2016-12                1          315  213316.636275     59066    677.2   \n",
       "2    2017-01                0          503  494526.183510    173621    983.2   \n",
       "3    2017-01                1          225  130363.720265     46387    579.4   \n",
       "4    2017-02                0          488  396511.918329    135159    812.5   \n",
       "5    2017-02                1          250  151737.278473     53375    606.9   \n",
       "\n",
       "   avg_qty  \n",
       "0    332.1  \n",
       "1    187.5  \n",
       "2    345.2  \n",
       "3    206.2  \n",
       "4    277.0  \n",
       "5    213.5  "
      ]
     },
     "execution_count": 43,
     "metadata": {},
     "output_type": "execute_result"
    }
   ],
   "source": [
    "avg1['avg_amt'] = round(avg1.total_amt / avg1.customer_id, 1)\n",
    "avg1['avg_qty'] = round(avg1.quantity / avg1.customer_id, 1)\n",
    "avg1"
   ]
  },
  {
   "cell_type": "markdown",
   "metadata": {},
   "source": [
    "Ввиду существенной концентрации продаж в одном магазине (Shop0) расчет метрик по магазинам не даст нам каких-то рельтатов для последующих выводов"
   ]
  },
  {
   "cell_type": "markdown",
   "metadata": {},
   "source": [
    "Для разбиения по когортам возьмем за общее событие совершение первой покупки пользователем в определенном месяце. Признак для разбиения наличие или отсутствие регистрации в программе лояльности"
   ]
  },
  {
   "cell_type": "code",
   "execution_count": 44,
   "metadata": {},
   "outputs": [
    {
     "data": {
      "text/html": [
       "<div>\n",
       "<style scoped>\n",
       "    .dataframe tbody tr th:only-of-type {\n",
       "        vertical-align: middle;\n",
       "    }\n",
       "\n",
       "    .dataframe tbody tr th {\n",
       "        vertical-align: top;\n",
       "    }\n",
       "\n",
       "    .dataframe thead th {\n",
       "        text-align: right;\n",
       "    }\n",
       "</style>\n",
       "<table border=\"1\" class=\"dataframe\">\n",
       "  <thead>\n",
       "    <tr style=\"text-align: right;\">\n",
       "      <th></th>\n",
       "      <th>purchase_id</th>\n",
       "      <th>item_id</th>\n",
       "      <th>quantity</th>\n",
       "      <th>purchase_date</th>\n",
       "      <th>customer_id</th>\n",
       "      <th>shop_id</th>\n",
       "      <th>loyalty_program</th>\n",
       "      <th>date</th>\n",
       "      <th>price_per_one</th>\n",
       "      <th>total_amt</th>\n",
       "      <th>year_month</th>\n",
       "    </tr>\n",
       "  </thead>\n",
       "  <tbody>\n",
       "    <tr>\n",
       "      <th>0</th>\n",
       "      <td>538280</td>\n",
       "      <td>21873</td>\n",
       "      <td>11</td>\n",
       "      <td>2016-12-10 12:50:00</td>\n",
       "      <td>18427.0</td>\n",
       "      <td>Shop 0</td>\n",
       "      <td>0</td>\n",
       "      <td>2016-12-10</td>\n",
       "      <td>1.81</td>\n",
       "      <td>19.91</td>\n",
       "      <td>2016-12</td>\n",
       "    </tr>\n",
       "    <tr>\n",
       "      <th>1</th>\n",
       "      <td>540418</td>\n",
       "      <td>21873</td>\n",
       "      <td>1</td>\n",
       "      <td>2017-01-07 11:04:00</td>\n",
       "      <td>NaN</td>\n",
       "      <td>Shop 0</td>\n",
       "      <td>0</td>\n",
       "      <td>2017-01-07</td>\n",
       "      <td>1.81</td>\n",
       "      <td>1.81</td>\n",
       "      <td>2017-01</td>\n",
       "    </tr>\n",
       "    <tr>\n",
       "      <th>2</th>\n",
       "      <td>541516</td>\n",
       "      <td>21873</td>\n",
       "      <td>2</td>\n",
       "      <td>2017-01-18 17:34:00</td>\n",
       "      <td>NaN</td>\n",
       "      <td>Shop 0</td>\n",
       "      <td>0</td>\n",
       "      <td>2017-01-18</td>\n",
       "      <td>1.81</td>\n",
       "      <td>3.62</td>\n",
       "      <td>2017-01</td>\n",
       "    </tr>\n",
       "  </tbody>\n",
       "</table>\n",
       "</div>"
      ],
      "text/plain": [
       "  purchase_id item_id  quantity       purchase_date  customer_id shop_id  \\\n",
       "0      538280   21873        11 2016-12-10 12:50:00      18427.0  Shop 0   \n",
       "1      540418   21873         1 2017-01-07 11:04:00          NaN  Shop 0   \n",
       "2      541516   21873         2 2017-01-18 17:34:00          NaN  Shop 0   \n",
       "\n",
       "   loyalty_program       date  price_per_one  total_amt year_month  \n",
       "0                0 2016-12-10           1.81      19.91    2016-12  \n",
       "1                0 2017-01-07           1.81       1.81    2017-01  \n",
       "2                0 2017-01-18           1.81       3.62    2017-01  "
      ]
     },
     "execution_count": 44,
     "metadata": {},
     "output_type": "execute_result"
    }
   ],
   "source": [
    "df1.head(3)"
   ]
  },
  {
   "cell_type": "code",
   "execution_count": 45,
   "metadata": {},
   "outputs": [
    {
     "data": {
      "text/html": [
       "<div>\n",
       "<style scoped>\n",
       "    .dataframe tbody tr th:only-of-type {\n",
       "        vertical-align: middle;\n",
       "    }\n",
       "\n",
       "    .dataframe tbody tr th {\n",
       "        vertical-align: top;\n",
       "    }\n",
       "\n",
       "    .dataframe thead th {\n",
       "        text-align: right;\n",
       "    }\n",
       "</style>\n",
       "<table border=\"1\" class=\"dataframe\">\n",
       "  <thead>\n",
       "    <tr style=\"text-align: right;\">\n",
       "      <th></th>\n",
       "      <th>customer_id</th>\n",
       "      <th>loyalty_program</th>\n",
       "    </tr>\n",
       "  </thead>\n",
       "  <tbody>\n",
       "  </tbody>\n",
       "</table>\n",
       "</div>"
      ],
      "text/plain": [
       "Empty DataFrame\n",
       "Columns: [customer_id, loyalty_program]\n",
       "Index: []"
      ]
     },
     "execution_count": 45,
     "metadata": {},
     "output_type": "execute_result"
    }
   ],
   "source": [
    "# найдем пользователей которые в начале были не зарегистрированны в программе, а потом сзарегистрировались\n",
    "qq = df1.groupby(['customer_id']).agg({'loyalty_program':'mean'}).reset_index()\n",
    "qq = qq[qq.loyalty_program < 1]\n",
    "qq[qq.loyalty_program > 0]\n",
    "# таких пользователей нет"
   ]
  },
  {
   "cell_type": "code",
   "execution_count": 46,
   "metadata": {},
   "outputs": [],
   "source": [
    "# функция формирует профили клиентов, по которым мы сможем дальше проводить когортный анализ и проверять гипотезы\n",
    "def get_profiles(df):\n",
    "\n",
    "    profiles = (\n",
    "        df.sort_values(by=['customer_id', 'purchase_date'])\n",
    "        .groupby('customer_id')\n",
    "        .agg(\n",
    "            {\n",
    "                'purchase_date': 'first',\n",
    "                'quantity': 'sum',\n",
    "                'purchase_id': 'count',\n",
    "                'loyalty_program': 'first',\n",
    "                'total_amt' : 'sum',\n",
    "                'year_month' : 'first',\n",
    "            }\n",
    "        )\n",
    "        .rename(columns={'purchase_id': 'purchases'})\n",
    "        .reset_index()\n",
    "    )\n",
    "\n",
    "    return profiles"
   ]
  },
  {
   "cell_type": "code",
   "execution_count": 47,
   "metadata": {},
   "outputs": [],
   "source": [
    "profiles = get_profiles(df1)\n",
    "profiles['avg_bill'] = profiles.total_amt / profiles.purchases"
   ]
  },
  {
   "cell_type": "code",
   "execution_count": 48,
   "metadata": {},
   "outputs": [
    {
     "data": {
      "text/html": [
       "<div>\n",
       "<style scoped>\n",
       "    .dataframe tbody tr th:only-of-type {\n",
       "        vertical-align: middle;\n",
       "    }\n",
       "\n",
       "    .dataframe tbody tr th {\n",
       "        vertical-align: top;\n",
       "    }\n",
       "\n",
       "    .dataframe thead th {\n",
       "        text-align: right;\n",
       "    }\n",
       "</style>\n",
       "<table border=\"1\" class=\"dataframe\">\n",
       "  <thead>\n",
       "    <tr style=\"text-align: right;\">\n",
       "      <th></th>\n",
       "      <th>customer_id</th>\n",
       "      <th>purchase_date</th>\n",
       "      <th>quantity</th>\n",
       "      <th>purchases</th>\n",
       "      <th>loyalty_program</th>\n",
       "      <th>total_amt</th>\n",
       "      <th>year_month</th>\n",
       "      <th>avg_bill</th>\n",
       "    </tr>\n",
       "  </thead>\n",
       "  <tbody>\n",
       "    <tr>\n",
       "      <th>0</th>\n",
       "      <td>18026.0</td>\n",
       "      <td>2016-12-07 14:57:00</td>\n",
       "      <td>574</td>\n",
       "      <td>60</td>\n",
       "      <td>0</td>\n",
       "      <td>1718.362024</td>\n",
       "      <td>2016-12</td>\n",
       "      <td>28.639367</td>\n",
       "    </tr>\n",
       "    <tr>\n",
       "      <th>1</th>\n",
       "      <td>18027.0</td>\n",
       "      <td>2016-12-16 19:09:00</td>\n",
       "      <td>974</td>\n",
       "      <td>16</td>\n",
       "      <td>0</td>\n",
       "      <td>1311.263286</td>\n",
       "      <td>2016-12</td>\n",
       "      <td>81.953955</td>\n",
       "    </tr>\n",
       "    <tr>\n",
       "      <th>2</th>\n",
       "      <td>18029.0</td>\n",
       "      <td>2017-02-02 16:01:00</td>\n",
       "      <td>180</td>\n",
       "      <td>16</td>\n",
       "      <td>0</td>\n",
       "      <td>385.261000</td>\n",
       "      <td>2017-02</td>\n",
       "      <td>24.078813</td>\n",
       "    </tr>\n",
       "    <tr>\n",
       "      <th>3</th>\n",
       "      <td>18031.0</td>\n",
       "      <td>2017-02-16 12:33:00</td>\n",
       "      <td>83</td>\n",
       "      <td>15</td>\n",
       "      <td>0</td>\n",
       "      <td>370.659667</td>\n",
       "      <td>2017-02</td>\n",
       "      <td>24.710644</td>\n",
       "    </tr>\n",
       "    <tr>\n",
       "      <th>4</th>\n",
       "      <td>18035.0</td>\n",
       "      <td>2017-01-18 09:50:00</td>\n",
       "      <td>1180</td>\n",
       "      <td>36</td>\n",
       "      <td>0</td>\n",
       "      <td>3614.032738</td>\n",
       "      <td>2017-01</td>\n",
       "      <td>100.389798</td>\n",
       "    </tr>\n",
       "    <tr>\n",
       "      <th>5</th>\n",
       "      <td>18038.0</td>\n",
       "      <td>2017-01-12 12:43:00</td>\n",
       "      <td>513</td>\n",
       "      <td>88</td>\n",
       "      <td>0</td>\n",
       "      <td>1947.140071</td>\n",
       "      <td>2017-01</td>\n",
       "      <td>22.126592</td>\n",
       "    </tr>\n",
       "    <tr>\n",
       "      <th>6</th>\n",
       "      <td>18040.0</td>\n",
       "      <td>2017-02-25 13:51:00</td>\n",
       "      <td>81</td>\n",
       "      <td>9</td>\n",
       "      <td>0</td>\n",
       "      <td>260.897000</td>\n",
       "      <td>2017-02</td>\n",
       "      <td>28.988556</td>\n",
       "    </tr>\n",
       "    <tr>\n",
       "      <th>7</th>\n",
       "      <td>18041.0</td>\n",
       "      <td>2017-02-17 10:30:00</td>\n",
       "      <td>202</td>\n",
       "      <td>27</td>\n",
       "      <td>0</td>\n",
       "      <td>592.739071</td>\n",
       "      <td>2017-02</td>\n",
       "      <td>21.953299</td>\n",
       "    </tr>\n",
       "    <tr>\n",
       "      <th>8</th>\n",
       "      <td>18044.0</td>\n",
       "      <td>2017-02-21 13:51:00</td>\n",
       "      <td>152</td>\n",
       "      <td>20</td>\n",
       "      <td>0</td>\n",
       "      <td>402.710000</td>\n",
       "      <td>2017-02</td>\n",
       "      <td>20.135500</td>\n",
       "    </tr>\n",
       "    <tr>\n",
       "      <th>9</th>\n",
       "      <td>18049.0</td>\n",
       "      <td>2016-12-14 12:58:00</td>\n",
       "      <td>877</td>\n",
       "      <td>68</td>\n",
       "      <td>0</td>\n",
       "      <td>2198.817345</td>\n",
       "      <td>2016-12</td>\n",
       "      <td>32.335549</td>\n",
       "    </tr>\n",
       "  </tbody>\n",
       "</table>\n",
       "</div>"
      ],
      "text/plain": [
       "   customer_id       purchase_date  quantity  purchases  loyalty_program  \\\n",
       "0      18026.0 2016-12-07 14:57:00       574         60                0   \n",
       "1      18027.0 2016-12-16 19:09:00       974         16                0   \n",
       "2      18029.0 2017-02-02 16:01:00       180         16                0   \n",
       "3      18031.0 2017-02-16 12:33:00        83         15                0   \n",
       "4      18035.0 2017-01-18 09:50:00      1180         36                0   \n",
       "5      18038.0 2017-01-12 12:43:00       513         88                0   \n",
       "6      18040.0 2017-02-25 13:51:00        81          9                0   \n",
       "7      18041.0 2017-02-17 10:30:00       202         27                0   \n",
       "8      18044.0 2017-02-21 13:51:00       152         20                0   \n",
       "9      18049.0 2016-12-14 12:58:00       877         68                0   \n",
       "\n",
       "     total_amt year_month    avg_bill  \n",
       "0  1718.362024    2016-12   28.639367  \n",
       "1  1311.263286    2016-12   81.953955  \n",
       "2   385.261000    2017-02   24.078813  \n",
       "3   370.659667    2017-02   24.710644  \n",
       "4  3614.032738    2017-01  100.389798  \n",
       "5  1947.140071    2017-01   22.126592  \n",
       "6   260.897000    2017-02   28.988556  \n",
       "7   592.739071    2017-02   21.953299  \n",
       "8   402.710000    2017-02   20.135500  \n",
       "9  2198.817345    2016-12   32.335549  "
      ]
     },
     "execution_count": 48,
     "metadata": {},
     "output_type": "execute_result"
    }
   ],
   "source": [
    "profiles.head(10)"
   ]
  },
  {
   "cell_type": "code",
   "execution_count": 49,
   "metadata": {},
   "outputs": [
    {
     "data": {
      "text/plain": [
       "1753397.9912194402"
      ]
     },
     "execution_count": 49,
     "metadata": {},
     "output_type": "execute_result"
    }
   ],
   "source": [
    "profiles.total_amt.sum()"
   ]
  },
  {
   "cell_type": "code",
   "execution_count": 50,
   "metadata": {},
   "outputs": [
    {
     "data": {
      "text/plain": [
       "1947419.4016116003"
      ]
     },
     "execution_count": 50,
     "metadata": {},
     "output_type": "execute_result"
    }
   ],
   "source": [
    "df1.total_amt.sum()"
   ]
  },
  {
   "cell_type": "markdown",
   "metadata": {},
   "source": [
    "при разбиении на когорты были проигнорированы и ни куда не вошли записи, в которых отсутсвует customer_id"
   ]
  },
  {
   "cell_type": "markdown",
   "metadata": {},
   "source": [
    "посмотреть динамику LTV можно только по когортам пользователей первого периода"
   ]
  },
  {
   "cell_type": "code",
   "execution_count": 51,
   "metadata": {},
   "outputs": [
    {
     "data": {
      "text/html": [
       "<div>\n",
       "<style scoped>\n",
       "    .dataframe tbody tr th:only-of-type {\n",
       "        vertical-align: middle;\n",
       "    }\n",
       "\n",
       "    .dataframe tbody tr th {\n",
       "        vertical-align: top;\n",
       "    }\n",
       "\n",
       "    .dataframe thead th {\n",
       "        text-align: right;\n",
       "    }\n",
       "</style>\n",
       "<table border=\"1\" class=\"dataframe\">\n",
       "  <thead>\n",
       "    <tr style=\"text-align: right;\">\n",
       "      <th>year_month</th>\n",
       "      <th>2016-12</th>\n",
       "      <th>2017-01</th>\n",
       "      <th>2017-02</th>\n",
       "    </tr>\n",
       "  </thead>\n",
       "  <tbody>\n",
       "    <tr>\n",
       "      <th>0</th>\n",
       "      <td>461908.794980</td>\n",
       "      <td>239397.115918</td>\n",
       "      <td>184637.997476</td>\n",
       "    </tr>\n",
       "    <tr>\n",
       "      <th>1</th>\n",
       "      <td>213316.636275</td>\n",
       "      <td>76030.127008</td>\n",
       "      <td>73622.439065</td>\n",
       "    </tr>\n",
       "  </tbody>\n",
       "</table>\n",
       "</div>"
      ],
      "text/plain": [
       "year_month        2016-12        2017-01        2017-02\n",
       "0           461908.794980  239397.115918  184637.997476\n",
       "1           213316.636275   76030.127008   73622.439065"
      ]
     },
     "execution_count": 51,
     "metadata": {},
     "output_type": "execute_result"
    }
   ],
   "source": [
    "# пользователи первого периода\n",
    "ltv_prof = profiles[profiles.year_month == '2016-12'][['customer_id', 'loyalty_program']]\\\n",
    "        .merge(df1[['customer_id', 'total_amt', 'year_month']],on='customer_id', how='left')\n",
    "\n",
    "ltv_prof.groupby(['year_month', 'loyalty_program'], as_index=False)\\\n",
    "        .agg({'total_amt':'sum'})\n",
    "ltv_prof.pivot_table(index='loyalty_program', columns='year_month', aggfunc={'total_amt':'sum'})\\\n",
    "        .reset_index().total_amt.rename(columns={'year_month':'loyalty_program'})"
   ]
  },
  {
   "cell_type": "code",
   "execution_count": 52,
   "metadata": {},
   "outputs": [
    {
     "data": {
      "text/html": [
       "<div>\n",
       "<style scoped>\n",
       "    .dataframe tbody tr th:only-of-type {\n",
       "        vertical-align: middle;\n",
       "    }\n",
       "\n",
       "    .dataframe tbody tr th {\n",
       "        vertical-align: top;\n",
       "    }\n",
       "\n",
       "    .dataframe thead th {\n",
       "        text-align: right;\n",
       "    }\n",
       "</style>\n",
       "<table border=\"1\" class=\"dataframe\">\n",
       "  <thead>\n",
       "    <tr style=\"text-align: right;\">\n",
       "      <th></th>\n",
       "      <th>year_month</th>\n",
       "      <th>loyalty_program</th>\n",
       "      <th>total_amt</th>\n",
       "    </tr>\n",
       "  </thead>\n",
       "  <tbody>\n",
       "    <tr>\n",
       "      <th>0</th>\n",
       "      <td>2016-12</td>\n",
       "      <td>0</td>\n",
       "      <td>461908.794980</td>\n",
       "    </tr>\n",
       "    <tr>\n",
       "      <th>1</th>\n",
       "      <td>2016-12</td>\n",
       "      <td>1</td>\n",
       "      <td>213316.636275</td>\n",
       "    </tr>\n",
       "    <tr>\n",
       "      <th>2</th>\n",
       "      <td>2017-01</td>\n",
       "      <td>0</td>\n",
       "      <td>239397.115918</td>\n",
       "    </tr>\n",
       "    <tr>\n",
       "      <th>3</th>\n",
       "      <td>2017-01</td>\n",
       "      <td>1</td>\n",
       "      <td>76030.127008</td>\n",
       "    </tr>\n",
       "    <tr>\n",
       "      <th>4</th>\n",
       "      <td>2017-02</td>\n",
       "      <td>0</td>\n",
       "      <td>184637.997476</td>\n",
       "    </tr>\n",
       "    <tr>\n",
       "      <th>5</th>\n",
       "      <td>2017-02</td>\n",
       "      <td>1</td>\n",
       "      <td>73622.439065</td>\n",
       "    </tr>\n",
       "  </tbody>\n",
       "</table>\n",
       "</div>"
      ],
      "text/plain": [
       "  year_month  loyalty_program      total_amt\n",
       "0    2016-12                0  461908.794980\n",
       "1    2016-12                1  213316.636275\n",
       "2    2017-01                0  239397.115918\n",
       "3    2017-01                1   76030.127008\n",
       "4    2017-02                0  184637.997476\n",
       "5    2017-02                1   73622.439065"
      ]
     },
     "execution_count": 52,
     "metadata": {},
     "output_type": "execute_result"
    }
   ],
   "source": [
    "ltv_prof.groupby(['year_month', 'loyalty_program'],as_index=False).agg({'total_amt':'sum'})"
   ]
  },
  {
   "cell_type": "code",
   "execution_count": 53,
   "metadata": {},
   "outputs": [
    {
     "data": {
      "image/png": "[encoded data removed]",
      "text/plain": [
       "<Figure size 720x360 with 1 Axes>"
      ]
     },
     "metadata": {
      "needs_background": "light"
     },
     "output_type": "display_data"
    }
   ],
   "source": [
    "ltv = ltv_prof.pivot_table(index='loyalty_program', columns='year_month', aggfunc={'total_amt':'sum'})\\\n",
    "        .reset_index().total_amt.rename(columns={'year_month':'loyalty_program'}).cumsum(axis=1).T\n",
    "\n",
    "ltv = ltv.reset_index().rename(columns={0: 'not_in_program', 1:'in_program'})\n",
    "ltv.not_in_program = ltv.not_in_program / ltv_prof[ltv_prof.loyalty_program == 0].customer_id.nunique()\n",
    "ltv.in_program = ltv.in_program / ltv_prof[ltv_prof.loyalty_program == 1].customer_id.nunique()\n",
    "\n",
    "# ltv['year_month'] = pd.to_datetime(ltv['year_month'])\n",
    "ltv['year_month'] = ltv['year_month'].astype('str')\n",
    "# ltv['year_month'] = pd.to_datetime(ltv['year_month'], format='%Y-%m')\n",
    "# ltv['year_month'] = ltv['year_month'].to_timestamp\n",
    "\n",
    "plt.figure(figsize=(10, 5))\n",
    "ax = sns.lineplot(x='year_month', y='value', hue='variable', \n",
    "             data=pd.melt(ltv, ['year_month']))\n",
    "plt.title('LTV')\n",
    "plt.ylabel('LTV')\n",
    "plt.xlabel('period')\n",
    "plt.show()\n"
   ]
  },
  {
   "cell_type": "markdown",
   "metadata": {},
   "source": [
    "LTV для покупателей зарегистрированных в программе лояльности ниже чем для незарегистрированных, и скорость его роста меньше"
   ]
  },
  {
   "cell_type": "code",
   "execution_count": 54,
   "metadata": {},
   "outputs": [
    {
     "data": {
      "text/html": [
       "<div>\n",
       "<style scoped>\n",
       "    .dataframe tbody tr th:only-of-type {\n",
       "        vertical-align: middle;\n",
       "    }\n",
       "\n",
       "    .dataframe tbody tr th {\n",
       "        vertical-align: top;\n",
       "    }\n",
       "\n",
       "    .dataframe thead th {\n",
       "        text-align: right;\n",
       "    }\n",
       "</style>\n",
       "<table border=\"1\" class=\"dataframe\">\n",
       "  <thead>\n",
       "    <tr style=\"text-align: right;\">\n",
       "      <th></th>\n",
       "      <th>year_month</th>\n",
       "      <th>loyalty_program</th>\n",
       "      <th>customers</th>\n",
       "      <th>avg_amt_by_cust</th>\n",
       "      <th>avg_purh_by_cust</th>\n",
       "    </tr>\n",
       "  </thead>\n",
       "  <tbody>\n",
       "    <tr>\n",
       "      <th>0</th>\n",
       "      <td>2016-12</td>\n",
       "      <td>0</td>\n",
       "      <td>551</td>\n",
       "      <td>1607.883681</td>\n",
       "      <td>42.983666</td>\n",
       "    </tr>\n",
       "    <tr>\n",
       "      <th>1</th>\n",
       "      <td>2016-12</td>\n",
       "      <td>1</td>\n",
       "      <td>315</td>\n",
       "      <td>1152.283182</td>\n",
       "      <td>36.009524</td>\n",
       "    </tr>\n",
       "    <tr>\n",
       "      <th>2</th>\n",
       "      <td>2017-01</td>\n",
       "      <td>0</td>\n",
       "      <td>293</td>\n",
       "      <td>797.322339</td>\n",
       "      <td>25.542662</td>\n",
       "    </tr>\n",
       "    <tr>\n",
       "      <th>3</th>\n",
       "      <td>2017-01</td>\n",
       "      <td>1</td>\n",
       "      <td>121</td>\n",
       "      <td>550.565157</td>\n",
       "      <td>26.305785</td>\n",
       "    </tr>\n",
       "    <tr>\n",
       "      <th>4</th>\n",
       "      <td>2017-02</td>\n",
       "      <td>0</td>\n",
       "      <td>254</td>\n",
       "      <td>544.964576</td>\n",
       "      <td>19.188976</td>\n",
       "    </tr>\n",
       "    <tr>\n",
       "      <th>5</th>\n",
       "      <td>2017-02</td>\n",
       "      <td>1</td>\n",
       "      <td>116</td>\n",
       "      <td>567.500420</td>\n",
       "      <td>22.965517</td>\n",
       "    </tr>\n",
       "  </tbody>\n",
       "</table>\n",
       "</div>"
      ],
      "text/plain": [
       "  year_month  loyalty_program  customers  avg_amt_by_cust  avg_purh_by_cust\n",
       "0    2016-12                0        551      1607.883681         42.983666\n",
       "1    2016-12                1        315      1152.283182         36.009524\n",
       "2    2017-01                0        293       797.322339         25.542662\n",
       "3    2017-01                1        121       550.565157         26.305785\n",
       "4    2017-02                0        254       544.964576         19.188976\n",
       "5    2017-02                1        116       567.500420         22.965517"
      ]
     },
     "execution_count": 54,
     "metadata": {},
     "output_type": "execute_result"
    }
   ],
   "source": [
    "\n",
    "profiles.groupby(['year_month', 'loyalty_program'])\\\n",
    "        .agg({'customer_id':'count', 'total_amt':'mean', 'purchases': 'mean'})\\\n",
    "        .reset_index()\\\n",
    "        .rename(columns={'customer_id':'customers',\n",
    "                         'total_amt' : 'avg_amt_by_cust',\n",
    "                         'purchases' : 'avg_purh_by_cust'})"
   ]
  },
  {
   "cell_type": "markdown",
   "metadata": {},
   "source": [
    "по таблице выше мы можем оценить размер получившихся когорт и средние значения ключевых показателей по ним(средний чек на клиента и среднее количество покупок на клиента)<br>\n",
    "По первым двум месяцам датасета среднее значении чека на клиента не зарегистрированного в программе лояльности выше. На третий месяц этот показатель незначительно выше уже для группы зарегистрированных пользователей <br>\n",
    "Программа лояльности не выглядит успешной с точки зрения показателя среднего чека на пользователя. <br>\n",
    "Среднее кличество покупок на пользователя в первый месяц выше для незарегистрированных пользователей. Для второго и третьего месяцев среднее количество покупок на зарегистрированных в программе лояльности пользователей незначительно больше чем для незарегистрированных.<br>\n",
    "Проверим далее являются ли данные расхождения статистически значимыми"
   ]
  },
  {
   "cell_type": "markdown",
   "metadata": {},
   "source": [
    "#### Шаг 4. Проверка статистических гипотез"
   ]
  },
  {
   "cell_type": "markdown",
   "metadata": {},
   "source": [
    "Н0 - Средние чеки клиентов участвующих и неучаствующих в программе лояльности равны\n",
    "H1 - Средние чеки клиентов участвующих и неучаствующих в программе лояльности не равны"
   ]
  },
  {
   "cell_type": "code",
   "execution_count": 55,
   "metadata": {},
   "outputs": [],
   "source": [
    "# функция для проверки гипотез\n",
    "def hip_check (profiles, period, avg_parametr, alpha):\n",
    "    profile = profiles[profiles.year_month == period]\n",
    "\n",
    "    profile1 = profile[profile.loyalty_program == 0][avg_parametr]\n",
    "    profile2 = profile[profile.loyalty_program == 1][avg_parametr]\n",
    "\n",
    "    results = st.mannwhitneyu(profile1, profile2)\n",
    "    \n",
    "    if results.pvalue < alpha:\n",
    "        message = 'Отвергаем нулевую гипотезу: разница статистически значима'\n",
    "    else:\n",
    "        message = 'Не получилось отвергнуть нулевую гипотезу, вывод о различии сделать нельзя'\n",
    "            \n",
    "    \n",
    "    return print('p-значение: ', results.pvalue,'\\n',message)"
   ]
  },
  {
   "cell_type": "code",
   "execution_count": 56,
   "metadata": {},
   "outputs": [
    {
     "name": "stdout",
     "output_type": "stream",
     "text": [
      "p-значение:  0.000936439246065109 \n",
      " Отвергаем нулевую гипотезу: разница статистически значима\n"
     ]
    }
   ],
   "source": [
    "hip_check(profiles, '2016-12', 'avg_bill', 0.05)"
   ]
  },
  {
   "cell_type": "code",
   "execution_count": 57,
   "metadata": {},
   "outputs": [
    {
     "name": "stdout",
     "output_type": "stream",
     "text": [
      "p-значение:  0.020400753215046308 \n",
      " Отвергаем нулевую гипотезу: разница статистически значима\n"
     ]
    }
   ],
   "source": [
    "hip_check(profiles, '2017-01', 'avg_bill', 0.05)"
   ]
  },
  {
   "cell_type": "code",
   "execution_count": 58,
   "metadata": {},
   "outputs": [
    {
     "name": "stdout",
     "output_type": "stream",
     "text": [
      "p-значение:  0.19454993829992412 \n",
      " Не получилось отвергнуть нулевую гипотезу, вывод о различии сделать нельзя\n"
     ]
    }
   ],
   "source": [
    "hip_check(profiles, '2017-02', 'avg_bill', 0.05)"
   ]
  },
  {
   "cell_type": "markdown",
   "metadata": {},
   "source": [
    "Только для групп третьего месяца из наших наблюдений мы не можем отвергнуть гипотезу о различии средних чеков<br>\n",
    "Для когорт первого и второго месяцев разница между средним чекго двух групп статистически значима<br>\n",
    "Для первой и второй когорт пользователи незарегистрированный в программе лояльности дают более высокий средний чек чем не зарегистрированные пользователи. Для третьей когорты полученные ранее отличия не существенны.<br>\n",
    "Программа лояльности по этому показателю показывает на трех когортах свою неэффективность"
   ]
  },
  {
   "cell_type": "markdown",
   "metadata": {},
   "source": [
    "проверим вторую гопотезу:<br>\n",
    "Н0 - Среднее количество покупок на клиентов участвующих и неучаствующих в программе лояльности равны<br>\n",
    "H1 - Среднее количество покупок на клиентов участвующих и неучаствующих в программе лояльности не равны"
   ]
  },
  {
   "cell_type": "code",
   "execution_count": 59,
   "metadata": {},
   "outputs": [
    {
     "name": "stdout",
     "output_type": "stream",
     "text": [
      "p-значение:  0.3231320197404578 \n",
      " Не получилось отвергнуть нулевую гипотезу, вывод о различии сделать нельзя\n"
     ]
    }
   ],
   "source": [
    "hip_check(profiles, '2016-12', 'purchases', 0.05)"
   ]
  },
  {
   "cell_type": "code",
   "execution_count": 60,
   "metadata": {},
   "outputs": [
    {
     "name": "stdout",
     "output_type": "stream",
     "text": [
      "p-значение:  0.3285136887949879 \n",
      " Не получилось отвергнуть нулевую гипотезу, вывод о различии сделать нельзя\n"
     ]
    }
   ],
   "source": [
    "hip_check(profiles, '2017-01', 'purchases', 0.05)"
   ]
  },
  {
   "cell_type": "code",
   "execution_count": 61,
   "metadata": {},
   "outputs": [
    {
     "name": "stdout",
     "output_type": "stream",
     "text": [
      "p-значение:  0.14449344018757754 \n",
      " Не получилось отвергнуть нулевую гипотезу, вывод о различии сделать нельзя\n"
     ]
    }
   ],
   "source": [
    "hip_check(profiles, '2017-02', 'purchases', 0.05)"
   ]
  },
  {
   "cell_type": "markdown",
   "metadata": {},
   "source": [
    "Для всех когорт вывод о различии среднего количества покупок между клиентами участвующими и неучаствующими в программе лояльности сделать нельзя<br>\n",
    "По этому показателю нет различий между двумя группами пользователей"
   ]
  },
  {
   "cell_type": "code",
   "execution_count": 62,
   "metadata": {},
   "outputs": [],
   "source": [
    "# функция для проверки гиптезы по всему массиву\n",
    "def hip_check2 (profiles, avg_parametr, alpha):\n",
    "    profile = profiles\n",
    "\n",
    "    profile1 = profile[profile.loyalty_program == 0][avg_parametr]\n",
    "    profile2 = profile[profile.loyalty_program == 1][avg_parametr]\n",
    "\n",
    "    results = st.mannwhitneyu(profile1, profile2)\n",
    "    \n",
    "    if results.pvalue < alpha:\n",
    "        message = 'Отвергаем нулевую гипотезу: разница статистически значима'\n",
    "    else:\n",
    "        message = 'Не получилось отвергнуть нулевую гипотезу, вывод о различии сделать нельзя'\n",
    "            \n",
    "    \n",
    "    return print('p-значение: ', results.pvalue,'\\n',message)"
   ]
  },
  {
   "cell_type": "code",
   "execution_count": 63,
   "metadata": {},
   "outputs": [],
   "source": [
    "# hip_check2(profiles, 'purchases', 0.05)"
   ]
  },
  {
   "cell_type": "code",
   "execution_count": 64,
   "metadata": {},
   "outputs": [],
   "source": [
    "# hip_check2(profiles, 'avg_bill', 0.05)"
   ]
  },
  {
   "cell_type": "code",
   "execution_count": 65,
   "metadata": {},
   "outputs": [],
   "source": [
    "# hip_check2(profiles, 'total_amt', 0.05)"
   ]
  },
  {
   "cell_type": "markdown",
   "metadata": {},
   "source": [
    "С достоверностью 95% можем сделать следующие выводы:<br>\n",
    "По показателю среднего чека на пользователя программа лояльности показала свою неэффективность<br>\n",
    "По показателю среднего количества покупок на пользователя разницы между двумя группами не наблюдается"
   ]
  },
  {
   "cell_type": "markdown",
   "metadata": {},
   "source": [
    "### Шаг 5. Выводы и рекомендации"
   ]
  },
  {
   "cell_type": "markdown",
   "metadata": {},
   "source": [
    "#### Шаг 5.1. Выводы:\n",
    "**Анализ предоставленных данных:**<br>\n",
    "1. Данные по стоимости продуктов:<br>\n",
    "- Количество уникальных продуктов: 3159\n",
    "- Общее количество записей по ценам продуктов: 9969\n",
    "- Для 382 позиций указана нулевая цена\n",
    "- Для 2419 продуктов из файла есть записи с разными ценами. Может быть несколько причин этому: цены менялись в течении времени (время установления цен нам не дано), ошибка в выгрузке, разные цены в разных магазинах. Для корректного объединения таблиц и дальнейшей работы с ними нам нужно иметь только одно значение цены для каждго продукта. Для целей проекта использовали среднюю цену для каждого продукта. Данные требуют уточнений.\n",
    "<br>\n",
    "<br>\n",
    "2. Данные по продажам:<br>\n",
    "- в датасете по продажам есть записи с отрицательным количеством заказов. По всей видимости это или возврат или корректировка неверно внесенного заказа. На это указывает и префикс в purchase_id таких заказов\n",
    "- для анализа убрали отрицательные (2076 записи) и нулевые (32362 записей) заказы из датасета. В рамках проета мы оцениваем эфективность внедрения программы лояльности через совершенные покупки разными когортами, записи с нулевыми покупками в данном контексте равнозначны отсутсвтию этих записей\n",
    "- убрали заказы, где количество единиц продукции больше 99 персентиля (у 99% пользователей количество товара в одной транзакции не более 119 единиц), чтоб исключить влияние выбросов\n",
    "- количество уникальных идентифицированных пользователей: 1650\n",
    "- среднее количество совершенных покупок на уникального пользователя: 32.3\n",
    "- количество уникальных приобретенных продуктов: 2771\n",
    "- общее количество магазинов: 31\n",
    "- Абсолютным лидером в продажах является Shop_0 (82% всех продаж)\n",
    "<br>\n",
    "\n",
    "**Анализ программы лояльности:**<br>\n",
    "Для разбиения по когортам брали за общее событие совершение первой покупки пользователем в определенном месяце. Признак для разбиения наличие или отсутствие регистрации в программе лояльности\n",
    "\n",
    "LTV для покупателей зарегистрированных в программе лояльности ниже чем для незарегистрированных, и скорость его роста меньше<br>\n",
    "По первым двум месяцам датасета среднее значении чека на клиента не зарегистрированного в программе лояльности выше. На третий месяц этот показатель незначительно выше уже для группы зарегистрированных пользователей <br>\n",
    "Программа лояльности не выглядит успешной с точки зрения показателя среднего чека на пользователя. <br>\n",
    "Среднее кличество покупок на пользователя в первый месяц выше для незарегистрированных пользователей. Для второго и третьего месяцев среднее количество покупок на зарегистрированных в программе лояльности пользователей незначительно больше чем для незарегистрированных.<br>\n",
    "Проверим далее являются ли данные расхождения статистически значимыми\n",
    "\n",
    "**Проверка гипотез:**<br>\n",
    "первая гипотеза:<br>\n",
    "Н0 - Средние чеки клиентов участвующих и неучаствующих в программе лояльности равны<br>\n",
    "Н1 - Средние чеки клиентов участвующих и неучаствующих в программе лояльности не равны<br>\n",
    "Только для когорт третьего месяца из наших наблюдений мы не можем отвергнуть гипотезу о различии средних чеков<br>\n",
    "Для когорт первого и второго месяцев разница между средним чеками двух групп статистически значима<br>\n",
    "Для первой и второй когорт пользователи незарегистрированный в программе лояльности дают более высокий средний чек чем не зарегистрированные пользователи. Для третьей когорты полученные ранее отличия не существенны.<br>\n",
    "Программа лояльности по этому показателю показывает на трех когортах свою неэффективность\n",
    "\n",
    "вторая гопотеза:<br>\n",
    "Н0 - Среднее количество покупок на клиентов участвующих и неучаствующих в программе лояльности равны<br>\n",
    "Н1 - Среднее количество покупок на клиентов участвующих и неучаствующих в программе лояльности не равны<br>\n",
    "Для всех когорт вывод о различии среднего количества покупок между клиентами участвующими и неучаствующими в программе лояльности сделать нельзя. По этому показателю нет различий между двумя группами пользователей\n",
    "\n",
    "По результатам первых двух месяцев программа лояльности с точки зрения показателя среднего чека на клиента не показала эфективности (средние чеки для незарегистрированных пользователей выше). Клиентые пришедшие в третьем месяце при уровне значимости 5% показывают сопоставимые результаты<br>\n",
    "\n",
    "Программа лояльности по двум выбранным параметрам показала свою неэффективность."
   ]
  },
  {
   "cell_type": "markdown",
   "metadata": {},
   "source": [
    "#### Шаг 5.2. Рекомендации:\n",
    "1. Остановить подключение новых пользователей в программу лояльности в ее текущем виде\n",
    "2. Пересмотреть программу лояльности "
   ]
  },
  {
   "cell_type": "code",
   "execution_count": 66,
   "metadata": {},
   "outputs": [],
   "source": [
    "df1.to_csv('new_retail_dataset.csv', index = False, sep = '\\t')"
   ]
  }
 ],
 "metadata": {
  "ExecuteTimeLog": [
   {
    "duration": 1281,
    "start_time": "2022-11-15T06:19:46.619Z"
   },
   {
    "duration": 131,
    "start_time": "2022-11-15T06:19:47.902Z"
   },
   {
    "duration": 0,
    "start_time": "2022-11-15T06:19:48.036Z"
   },
   {
    "duration": 0,
    "start_time": "2022-11-15T06:19:48.037Z"
   },
   {
    "duration": 0,
    "start_time": "2022-11-15T06:19:48.038Z"
   },
   {
    "duration": 0,
    "start_time": "2022-11-15T06:19:48.039Z"
   },
   {
    "duration": 0,
    "start_time": "2022-11-15T06:19:48.041Z"
   },
   {
    "duration": 0,
    "start_time": "2022-11-15T06:19:48.042Z"
   },
   {
    "duration": 0,
    "start_time": "2022-11-15T06:19:48.043Z"
   },
   {
    "duration": 0,
    "start_time": "2022-11-15T06:19:48.043Z"
   },
   {
    "duration": 0,
    "start_time": "2022-11-15T06:19:48.044Z"
   },
   {
    "duration": 0,
    "start_time": "2022-11-15T06:19:48.045Z"
   },
   {
    "duration": 0,
    "start_time": "2022-11-15T06:19:48.046Z"
   },
   {
    "duration": 0,
    "start_time": "2022-11-15T06:19:48.047Z"
   },
   {
    "duration": 0,
    "start_time": "2022-11-15T06:19:48.048Z"
   },
   {
    "duration": 0,
    "start_time": "2022-11-15T06:19:48.048Z"
   },
   {
    "duration": 0,
    "start_time": "2022-11-15T06:19:48.049Z"
   },
   {
    "duration": 0,
    "start_time": "2022-11-15T06:19:48.050Z"
   },
   {
    "duration": 0,
    "start_time": "2022-11-15T06:19:48.051Z"
   },
   {
    "duration": 0,
    "start_time": "2022-11-15T06:19:48.076Z"
   },
   {
    "duration": 0,
    "start_time": "2022-11-15T06:19:48.077Z"
   },
   {
    "duration": 0,
    "start_time": "2022-11-15T06:19:48.078Z"
   },
   {
    "duration": 0,
    "start_time": "2022-11-15T06:19:48.079Z"
   },
   {
    "duration": 0,
    "start_time": "2022-11-15T06:19:48.080Z"
   },
   {
    "duration": 0,
    "start_time": "2022-11-15T06:19:48.081Z"
   },
   {
    "duration": 0,
    "start_time": "2022-11-15T06:19:48.082Z"
   },
   {
    "duration": 0,
    "start_time": "2022-11-15T06:19:48.083Z"
   },
   {
    "duration": 0,
    "start_time": "2022-11-15T06:19:48.084Z"
   },
   {
    "duration": 0,
    "start_time": "2022-11-15T06:19:48.085Z"
   },
   {
    "duration": 0,
    "start_time": "2022-11-15T06:19:48.086Z"
   },
   {
    "duration": 0,
    "start_time": "2022-11-15T06:19:48.087Z"
   },
   {
    "duration": 0,
    "start_time": "2022-11-15T06:19:48.088Z"
   },
   {
    "duration": 0,
    "start_time": "2022-11-15T06:19:48.089Z"
   },
   {
    "duration": 0,
    "start_time": "2022-11-15T06:19:48.090Z"
   },
   {
    "duration": 0,
    "start_time": "2022-11-15T06:19:48.091Z"
   },
   {
    "duration": 0,
    "start_time": "2022-11-15T06:19:48.092Z"
   },
   {
    "duration": 0,
    "start_time": "2022-11-15T06:19:48.093Z"
   },
   {
    "duration": 0,
    "start_time": "2022-11-15T06:19:48.094Z"
   },
   {
    "duration": 0,
    "start_time": "2022-11-15T06:19:48.095Z"
   },
   {
    "duration": 0,
    "start_time": "2022-11-15T06:19:48.096Z"
   },
   {
    "duration": 0,
    "start_time": "2022-11-15T06:19:48.096Z"
   },
   {
    "duration": 0,
    "start_time": "2022-11-15T06:19:48.098Z"
   },
   {
    "duration": 0,
    "start_time": "2022-11-15T06:19:48.099Z"
   },
   {
    "duration": 0,
    "start_time": "2022-11-15T06:19:48.100Z"
   },
   {
    "duration": 0,
    "start_time": "2022-11-15T06:19:48.102Z"
   },
   {
    "duration": 0,
    "start_time": "2022-11-15T06:19:48.103Z"
   },
   {
    "duration": 0,
    "start_time": "2022-11-15T06:19:48.104Z"
   },
   {
    "duration": 0,
    "start_time": "2022-11-15T06:19:48.105Z"
   },
   {
    "duration": 0,
    "start_time": "2022-11-15T06:19:48.106Z"
   },
   {
    "duration": 0,
    "start_time": "2022-11-15T06:19:48.107Z"
   },
   {
    "duration": 0,
    "start_time": "2022-11-15T06:19:48.109Z"
   },
   {
    "duration": 0,
    "start_time": "2022-11-15T06:19:48.110Z"
   },
   {
    "duration": 0,
    "start_time": "2022-11-15T06:19:48.111Z"
   },
   {
    "duration": 0,
    "start_time": "2022-11-15T06:19:48.177Z"
   },
   {
    "duration": 0,
    "start_time": "2022-11-15T06:19:48.179Z"
   },
   {
    "duration": 0,
    "start_time": "2022-11-15T06:19:48.180Z"
   },
   {
    "duration": 0,
    "start_time": "2022-11-15T06:19:48.182Z"
   },
   {
    "duration": 0,
    "start_time": "2022-11-15T06:19:48.183Z"
   },
   {
    "duration": 0,
    "start_time": "2022-11-15T06:19:48.184Z"
   },
   {
    "duration": 0,
    "start_time": "2022-11-15T06:19:48.185Z"
   },
   {
    "duration": 0,
    "start_time": "2022-11-15T06:19:48.186Z"
   },
   {
    "duration": 0,
    "start_time": "2022-11-15T06:19:48.187Z"
   },
   {
    "duration": 0,
    "start_time": "2022-11-15T06:19:48.188Z"
   },
   {
    "duration": 0,
    "start_time": "2022-11-15T06:19:48.189Z"
   },
   {
    "duration": 0,
    "start_time": "2022-11-15T06:19:48.191Z"
   },
   {
    "duration": 520,
    "start_time": "2022-11-15T06:20:20.715Z"
   },
   {
    "duration": 132,
    "start_time": "2022-11-15T06:20:26.261Z"
   },
   {
    "duration": 10,
    "start_time": "2022-11-15T06:20:26.395Z"
   },
   {
    "duration": 10,
    "start_time": "2022-11-15T06:20:26.407Z"
   },
   {
    "duration": 11,
    "start_time": "2022-11-15T06:20:26.418Z"
   },
   {
    "duration": 11,
    "start_time": "2022-11-15T06:20:26.430Z"
   },
   {
    "duration": 12,
    "start_time": "2022-11-15T06:20:26.442Z"
   },
   {
    "duration": 27,
    "start_time": "2022-11-15T06:20:26.455Z"
   },
   {
    "duration": 2,
    "start_time": "2022-11-15T06:20:26.484Z"
   },
   {
    "duration": 20,
    "start_time": "2022-11-15T06:20:26.487Z"
   },
   {
    "duration": 20,
    "start_time": "2022-11-15T06:20:26.509Z"
   },
   {
    "duration": 28,
    "start_time": "2022-11-15T06:20:26.530Z"
   },
   {
    "duration": 15,
    "start_time": "2022-11-15T06:20:26.560Z"
   },
   {
    "duration": 6,
    "start_time": "2022-11-15T06:20:26.577Z"
   },
   {
    "duration": 22,
    "start_time": "2022-11-15T06:20:26.585Z"
   },
   {
    "duration": 11,
    "start_time": "2022-11-15T06:20:26.608Z"
   },
   {
    "duration": 5,
    "start_time": "2022-11-15T06:20:26.621Z"
   },
   {
    "duration": 72,
    "start_time": "2022-11-15T06:20:26.628Z"
   },
   {
    "duration": 50,
    "start_time": "2022-11-15T06:20:26.702Z"
   },
   {
    "duration": 26,
    "start_time": "2022-11-15T06:20:26.753Z"
   },
   {
    "duration": 25,
    "start_time": "2022-11-15T06:20:26.780Z"
   },
   {
    "duration": 20,
    "start_time": "2022-11-15T06:20:26.807Z"
   },
   {
    "duration": 293,
    "start_time": "2022-11-15T06:20:26.829Z"
   },
   {
    "duration": 5,
    "start_time": "2022-11-15T06:20:27.123Z"
   },
   {
    "duration": 16,
    "start_time": "2022-11-15T06:20:27.130Z"
   },
   {
    "duration": 16,
    "start_time": "2022-11-15T06:20:27.147Z"
   },
   {
    "duration": 16,
    "start_time": "2022-11-15T06:20:27.165Z"
   },
   {
    "duration": 18,
    "start_time": "2022-11-15T06:20:27.183Z"
   },
   {
    "duration": 9,
    "start_time": "2022-11-15T06:20:27.205Z"
   },
   {
    "duration": 20,
    "start_time": "2022-11-15T06:20:27.216Z"
   },
   {
    "duration": 189,
    "start_time": "2022-11-15T06:20:27.238Z"
   },
   {
    "duration": 51,
    "start_time": "2022-11-15T06:20:27.428Z"
   },
   {
    "duration": 945,
    "start_time": "2022-11-15T06:20:27.480Z"
   },
   {
    "duration": 19,
    "start_time": "2022-11-15T06:20:28.426Z"
   },
   {
    "duration": 30,
    "start_time": "2022-11-15T06:20:28.447Z"
   },
   {
    "duration": 16,
    "start_time": "2022-11-15T06:20:28.479Z"
   },
   {
    "duration": 0,
    "start_time": "2022-11-15T06:20:28.497Z"
   },
   {
    "duration": 0,
    "start_time": "2022-11-15T06:20:28.498Z"
   },
   {
    "duration": 0,
    "start_time": "2022-11-15T06:20:28.499Z"
   },
   {
    "duration": 0,
    "start_time": "2022-11-15T06:20:28.501Z"
   },
   {
    "duration": 0,
    "start_time": "2022-11-15T06:20:28.502Z"
   },
   {
    "duration": 0,
    "start_time": "2022-11-15T06:20:28.503Z"
   },
   {
    "duration": 0,
    "start_time": "2022-11-15T06:20:28.505Z"
   },
   {
    "duration": 0,
    "start_time": "2022-11-15T06:20:28.506Z"
   },
   {
    "duration": 0,
    "start_time": "2022-11-15T06:20:28.507Z"
   },
   {
    "duration": 0,
    "start_time": "2022-11-15T06:20:28.509Z"
   },
   {
    "duration": 0,
    "start_time": "2022-11-15T06:20:28.510Z"
   },
   {
    "duration": 0,
    "start_time": "2022-11-15T06:20:28.512Z"
   },
   {
    "duration": 0,
    "start_time": "2022-11-15T06:20:28.513Z"
   },
   {
    "duration": 0,
    "start_time": "2022-11-15T06:20:28.514Z"
   },
   {
    "duration": 0,
    "start_time": "2022-11-15T06:20:28.515Z"
   },
   {
    "duration": 0,
    "start_time": "2022-11-15T06:20:28.516Z"
   },
   {
    "duration": 0,
    "start_time": "2022-11-15T06:20:28.517Z"
   },
   {
    "duration": 0,
    "start_time": "2022-11-15T06:20:28.518Z"
   },
   {
    "duration": 0,
    "start_time": "2022-11-15T06:20:28.519Z"
   },
   {
    "duration": 0,
    "start_time": "2022-11-15T06:20:28.520Z"
   },
   {
    "duration": 0,
    "start_time": "2022-11-15T06:20:28.521Z"
   },
   {
    "duration": 0,
    "start_time": "2022-11-15T06:20:28.523Z"
   },
   {
    "duration": 0,
    "start_time": "2022-11-15T06:20:28.524Z"
   },
   {
    "duration": 0,
    "start_time": "2022-11-15T06:20:28.524Z"
   },
   {
    "duration": 0,
    "start_time": "2022-11-15T06:20:28.576Z"
   },
   {
    "duration": 0,
    "start_time": "2022-11-15T06:20:28.577Z"
   },
   {
    "duration": 0,
    "start_time": "2022-11-15T06:20:28.578Z"
   },
   {
    "duration": 0,
    "start_time": "2022-11-15T06:20:28.579Z"
   },
   {
    "duration": 0,
    "start_time": "2022-11-15T06:20:28.580Z"
   },
   {
    "duration": 17,
    "start_time": "2022-11-15T06:20:58.973Z"
   },
   {
    "duration": 15,
    "start_time": "2022-11-15T06:20:59.973Z"
   },
   {
    "duration": 13,
    "start_time": "2022-11-15T06:21:00.382Z"
   },
   {
    "duration": 5,
    "start_time": "2022-11-15T06:21:01.131Z"
   },
   {
    "duration": 204,
    "start_time": "2022-11-15T06:21:01.515Z"
   },
   {
    "duration": 20,
    "start_time": "2022-11-15T06:21:01.965Z"
   },
   {
    "duration": 13,
    "start_time": "2022-11-15T06:21:02.251Z"
   },
   {
    "duration": 13,
    "start_time": "2022-11-15T06:21:02.771Z"
   },
   {
    "duration": 13,
    "start_time": "2022-11-15T06:21:02.995Z"
   },
   {
    "duration": 4,
    "start_time": "2022-11-15T06:21:03.163Z"
   },
   {
    "duration": 26,
    "start_time": "2022-11-15T06:21:03.323Z"
   },
   {
    "duration": 11,
    "start_time": "2022-11-15T06:21:03.483Z"
   },
   {
    "duration": 4,
    "start_time": "2022-11-15T06:21:03.658Z"
   },
   {
    "duration": 4,
    "start_time": "2022-11-15T06:21:03.843Z"
   },
   {
    "duration": 42,
    "start_time": "2022-11-15T06:21:04.384Z"
   },
   {
    "duration": 13,
    "start_time": "2022-11-15T06:21:04.548Z"
   },
   {
    "duration": 241,
    "start_time": "2022-11-15T06:21:04.747Z"
   },
   {
    "duration": 16,
    "start_time": "2022-11-15T06:21:05.100Z"
   },
   {
    "duration": 3,
    "start_time": "2022-11-15T06:21:05.835Z"
   },
   {
    "duration": 8,
    "start_time": "2022-11-15T06:21:06.019Z"
   },
   {
    "duration": 8,
    "start_time": "2022-11-15T06:21:06.195Z"
   },
   {
    "duration": 8,
    "start_time": "2022-11-15T06:21:06.386Z"
   },
   {
    "duration": 10,
    "start_time": "2022-11-15T06:21:06.947Z"
   },
   {
    "duration": 10,
    "start_time": "2022-11-15T06:21:07.139Z"
   },
   {
    "duration": 9,
    "start_time": "2022-11-15T06:21:07.330Z"
   },
   {
    "duration": 4,
    "start_time": "2022-11-15T06:21:07.699Z"
   },
   {
    "duration": 2,
    "start_time": "2022-11-15T06:21:07.883Z"
   },
   {
    "duration": 3,
    "start_time": "2022-11-15T06:21:08.059Z"
   },
   {
    "duration": 2,
    "start_time": "2022-11-15T06:21:08.252Z"
   },
   {
    "duration": 8,
    "start_time": "2022-11-15T06:54:41.441Z"
   },
   {
    "duration": 7,
    "start_time": "2022-11-15T06:54:54.243Z"
   },
   {
    "duration": 17,
    "start_time": "2022-11-15T06:54:56.913Z"
   },
   {
    "duration": 4,
    "start_time": "2022-11-15T06:55:12.882Z"
   },
   {
    "duration": 6,
    "start_time": "2022-11-15T06:57:22.106Z"
   },
   {
    "duration": 83,
    "start_time": "2022-11-15T06:57:28.034Z"
   },
   {
    "duration": 5,
    "start_time": "2022-11-15T06:57:30.338Z"
   },
   {
    "duration": 5,
    "start_time": "2022-11-15T06:57:35.242Z"
   },
   {
    "duration": 17,
    "start_time": "2022-11-15T07:00:10.859Z"
   },
   {
    "duration": 15,
    "start_time": "2022-11-15T07:01:32.844Z"
   },
   {
    "duration": 48,
    "start_time": "2022-11-15T19:36:01.689Z"
   },
   {
    "duration": 1326,
    "start_time": "2022-11-15T19:36:05.180Z"
   },
   {
    "duration": 67,
    "start_time": "2022-11-15T19:36:08.084Z"
   },
   {
    "duration": 294,
    "start_time": "2022-11-15T19:36:45.471Z"
   },
   {
    "duration": 9,
    "start_time": "2022-11-15T19:43:14.705Z"
   },
   {
    "duration": 3,
    "start_time": "2022-11-15T19:43:33.251Z"
   },
   {
    "duration": 123,
    "start_time": "2022-11-15T19:43:33.255Z"
   },
   {
    "duration": 12,
    "start_time": "2022-11-15T19:43:33.380Z"
   },
   {
    "duration": 8,
    "start_time": "2022-11-15T19:43:33.393Z"
   },
   {
    "duration": 9,
    "start_time": "2022-11-15T19:43:33.403Z"
   },
   {
    "duration": 7,
    "start_time": "2022-11-15T19:43:33.413Z"
   },
   {
    "duration": 33,
    "start_time": "2022-11-15T19:43:33.421Z"
   },
   {
    "duration": 25,
    "start_time": "2022-11-15T19:43:33.456Z"
   },
   {
    "duration": 2,
    "start_time": "2022-11-15T19:43:33.483Z"
   },
   {
    "duration": 29,
    "start_time": "2022-11-15T19:43:33.487Z"
   },
   {
    "duration": 15,
    "start_time": "2022-11-15T19:43:33.527Z"
   },
   {
    "duration": 24,
    "start_time": "2022-11-15T19:43:33.543Z"
   },
   {
    "duration": 11,
    "start_time": "2022-11-15T19:43:33.569Z"
   },
   {
    "duration": 5,
    "start_time": "2022-11-15T19:43:33.583Z"
   },
   {
    "duration": 54,
    "start_time": "2022-11-15T19:43:33.590Z"
   },
   {
    "duration": 16,
    "start_time": "2022-11-15T19:43:33.646Z"
   },
   {
    "duration": 5,
    "start_time": "2022-11-15T19:43:33.664Z"
   },
   {
    "duration": 63,
    "start_time": "2022-11-15T19:43:33.670Z"
   },
   {
    "duration": 58,
    "start_time": "2022-11-15T19:43:33.735Z"
   },
   {
    "duration": 14,
    "start_time": "2022-11-15T19:43:33.795Z"
   },
   {
    "duration": 57,
    "start_time": "2022-11-15T19:43:33.811Z"
   },
   {
    "duration": 24,
    "start_time": "2022-11-15T19:43:33.869Z"
   },
   {
    "duration": 325,
    "start_time": "2022-11-15T19:43:33.895Z"
   },
   {
    "duration": 20,
    "start_time": "2022-11-15T19:43:34.221Z"
   },
   {
    "duration": 10,
    "start_time": "2022-11-15T19:43:34.243Z"
   },
   {
    "duration": 17,
    "start_time": "2022-11-15T19:43:34.255Z"
   },
   {
    "duration": 10,
    "start_time": "2022-11-15T19:43:34.273Z"
   },
   {
    "duration": 23,
    "start_time": "2022-11-15T19:43:34.285Z"
   },
   {
    "duration": 11,
    "start_time": "2022-11-15T19:43:55.459Z"
   },
   {
    "duration": 5,
    "start_time": "2022-11-15T19:43:57.090Z"
   },
   {
    "duration": 21,
    "start_time": "2022-11-15T19:44:07.075Z"
   },
   {
    "duration": 79,
    "start_time": "2022-11-15T19:44:38.066Z"
   },
   {
    "duration": 74,
    "start_time": "2022-11-15T19:44:46.791Z"
   },
   {
    "duration": 3,
    "start_time": "2022-11-15T19:48:37.771Z"
   },
   {
    "duration": 129,
    "start_time": "2022-11-15T19:48:37.776Z"
   },
   {
    "duration": 11,
    "start_time": "2022-11-15T19:48:37.906Z"
   },
   {
    "duration": 6,
    "start_time": "2022-11-15T19:48:37.918Z"
   },
   {
    "duration": 20,
    "start_time": "2022-11-15T19:48:37.925Z"
   },
   {
    "duration": 9,
    "start_time": "2022-11-15T19:48:37.947Z"
   },
   {
    "duration": 7,
    "start_time": "2022-11-15T19:48:37.957Z"
   },
   {
    "duration": 23,
    "start_time": "2022-11-15T19:48:37.965Z"
   },
   {
    "duration": 3,
    "start_time": "2022-11-15T19:48:37.989Z"
   },
   {
    "duration": 21,
    "start_time": "2022-11-15T19:48:37.993Z"
   },
   {
    "duration": 14,
    "start_time": "2022-11-15T19:48:38.016Z"
   },
   {
    "duration": 36,
    "start_time": "2022-11-15T19:48:38.031Z"
   },
   {
    "duration": 9,
    "start_time": "2022-11-15T19:48:38.068Z"
   },
   {
    "duration": 6,
    "start_time": "2022-11-15T19:48:38.079Z"
   },
   {
    "duration": 20,
    "start_time": "2022-11-15T19:48:38.087Z"
   },
   {
    "duration": 26,
    "start_time": "2022-11-15T19:48:38.109Z"
   },
   {
    "duration": 12,
    "start_time": "2022-11-15T19:48:38.138Z"
   },
   {
    "duration": 45,
    "start_time": "2022-11-15T19:48:38.151Z"
   },
   {
    "duration": 51,
    "start_time": "2022-11-15T19:48:38.197Z"
   },
   {
    "duration": 20,
    "start_time": "2022-11-15T19:48:38.250Z"
   },
   {
    "duration": 31,
    "start_time": "2022-11-15T19:48:38.272Z"
   },
   {
    "duration": 42,
    "start_time": "2022-11-15T19:48:38.305Z"
   },
   {
    "duration": 288,
    "start_time": "2022-11-15T19:48:38.348Z"
   },
   {
    "duration": 9,
    "start_time": "2022-11-15T19:48:38.637Z"
   },
   {
    "duration": 6,
    "start_time": "2022-11-15T19:48:38.648Z"
   },
   {
    "duration": 13,
    "start_time": "2022-11-15T19:48:38.655Z"
   },
   {
    "duration": 8,
    "start_time": "2022-11-15T19:48:38.669Z"
   },
   {
    "duration": 19,
    "start_time": "2022-11-15T19:48:38.678Z"
   },
   {
    "duration": 37,
    "start_time": "2022-11-15T19:48:38.699Z"
   },
   {
    "duration": 21,
    "start_time": "2022-11-15T19:48:38.738Z"
   },
   {
    "duration": 181,
    "start_time": "2022-11-15T19:48:38.760Z"
   },
   {
    "duration": 35,
    "start_time": "2022-11-15T19:48:38.945Z"
   },
   {
    "duration": 1064,
    "start_time": "2022-11-15T19:48:38.981Z"
   },
   {
    "duration": 10,
    "start_time": "2022-11-15T19:49:25.636Z"
   },
   {
    "duration": 4,
    "start_time": "2022-11-15T19:49:50.044Z"
   },
   {
    "duration": 19,
    "start_time": "2022-11-15T19:50:08.761Z"
   },
   {
    "duration": 74,
    "start_time": "2022-11-15T19:50:49.610Z"
   },
   {
    "duration": 16,
    "start_time": "2022-11-15T19:51:09.989Z"
   },
   {
    "duration": 9,
    "start_time": "2022-11-15T19:51:50.472Z"
   },
   {
    "duration": 23,
    "start_time": "2022-11-15T19:59:57.046Z"
   },
   {
    "duration": 15,
    "start_time": "2022-11-15T20:00:07.603Z"
   },
   {
    "duration": 15,
    "start_time": "2022-11-15T20:01:27.594Z"
   },
   {
    "duration": 16,
    "start_time": "2022-11-15T20:01:52.690Z"
   },
   {
    "duration": 24,
    "start_time": "2022-11-15T20:03:13.831Z"
   },
   {
    "duration": 310,
    "start_time": "2022-11-15T20:03:43.730Z"
   },
   {
    "duration": 333,
    "start_time": "2022-11-15T20:04:04.269Z"
   },
   {
    "duration": 298,
    "start_time": "2022-11-15T20:05:40.292Z"
   },
   {
    "duration": 323,
    "start_time": "2022-11-15T20:05:49.595Z"
   },
   {
    "duration": 157,
    "start_time": "2022-11-15T20:07:02.703Z"
   },
   {
    "duration": 159,
    "start_time": "2022-11-15T20:07:17.778Z"
   },
   {
    "duration": 181,
    "start_time": "2022-11-15T20:09:05.585Z"
   },
   {
    "duration": 407,
    "start_time": "2022-11-15T20:09:09.848Z"
   },
   {
    "duration": 331,
    "start_time": "2022-11-15T20:10:24.109Z"
   },
   {
    "duration": 315,
    "start_time": "2022-11-15T20:11:05.907Z"
   },
   {
    "duration": 316,
    "start_time": "2022-11-15T20:11:18.682Z"
   },
   {
    "duration": 20,
    "start_time": "2022-11-15T20:12:10.729Z"
   },
   {
    "duration": 326,
    "start_time": "2022-11-15T20:12:23.628Z"
   },
   {
    "duration": 66,
    "start_time": "2022-11-15T20:13:11.416Z"
   },
   {
    "duration": 69,
    "start_time": "2022-11-15T20:13:43.708Z"
   },
   {
    "duration": 9,
    "start_time": "2022-11-15T20:26:22.034Z"
   },
   {
    "duration": 4,
    "start_time": "2022-11-15T20:26:31.359Z"
   },
   {
    "duration": 113,
    "start_time": "2022-11-15T20:26:31.369Z"
   },
   {
    "duration": 11,
    "start_time": "2022-11-15T20:26:31.484Z"
   },
   {
    "duration": 11,
    "start_time": "2022-11-15T20:26:31.496Z"
   },
   {
    "duration": 22,
    "start_time": "2022-11-15T20:26:31.509Z"
   },
   {
    "duration": 21,
    "start_time": "2022-11-15T20:26:31.534Z"
   },
   {
    "duration": 12,
    "start_time": "2022-11-15T20:26:31.557Z"
   },
   {
    "duration": 31,
    "start_time": "2022-11-15T20:26:31.570Z"
   },
   {
    "duration": 3,
    "start_time": "2022-11-15T20:26:31.603Z"
   },
   {
    "duration": 34,
    "start_time": "2022-11-15T20:26:31.607Z"
   },
   {
    "duration": 8,
    "start_time": "2022-11-15T20:26:31.643Z"
   },
   {
    "duration": 29,
    "start_time": "2022-11-15T20:26:31.653Z"
   },
   {
    "duration": 9,
    "start_time": "2022-11-15T20:26:31.683Z"
   },
   {
    "duration": 8,
    "start_time": "2022-11-15T20:26:31.693Z"
   },
   {
    "duration": 32,
    "start_time": "2022-11-15T20:26:31.704Z"
   },
   {
    "duration": 96,
    "start_time": "2022-11-15T20:26:31.737Z"
   },
   {
    "duration": 9,
    "start_time": "2022-11-15T20:26:31.835Z"
   },
   {
    "duration": 56,
    "start_time": "2022-11-15T20:26:31.846Z"
   },
   {
    "duration": 43,
    "start_time": "2022-11-15T20:26:31.904Z"
   },
   {
    "duration": 13,
    "start_time": "2022-11-15T20:26:31.948Z"
   },
   {
    "duration": 27,
    "start_time": "2022-11-15T20:26:31.962Z"
   },
   {
    "duration": 42,
    "start_time": "2022-11-15T20:26:31.991Z"
   },
   {
    "duration": 270,
    "start_time": "2022-11-15T20:26:32.035Z"
   },
   {
    "duration": 4,
    "start_time": "2022-11-15T20:26:32.306Z"
   },
   {
    "duration": 16,
    "start_time": "2022-11-15T20:26:32.311Z"
   },
   {
    "duration": 10,
    "start_time": "2022-11-15T20:26:32.328Z"
   },
   {
    "duration": 8,
    "start_time": "2022-11-15T20:26:32.340Z"
   },
   {
    "duration": 18,
    "start_time": "2022-11-15T20:26:32.349Z"
   },
   {
    "duration": 9,
    "start_time": "2022-11-15T20:26:32.368Z"
   },
   {
    "duration": 49,
    "start_time": "2022-11-15T20:26:32.378Z"
   },
   {
    "duration": 167,
    "start_time": "2022-11-15T20:26:32.429Z"
   },
   {
    "duration": 55,
    "start_time": "2022-11-15T20:26:32.597Z"
   },
   {
    "duration": 933,
    "start_time": "2022-11-15T20:26:32.653Z"
   },
   {
    "duration": 20,
    "start_time": "2022-11-15T20:26:33.587Z"
   },
   {
    "duration": 26,
    "start_time": "2022-11-15T20:26:33.609Z"
   },
   {
    "duration": 346,
    "start_time": "2022-11-15T20:26:33.637Z"
   },
   {
    "duration": 341,
    "start_time": "2022-11-15T20:26:33.985Z"
   },
   {
    "duration": 405,
    "start_time": "2022-11-15T20:26:34.327Z"
   },
   {
    "duration": 13,
    "start_time": "2022-11-15T20:26:34.733Z"
   },
   {
    "duration": 3,
    "start_time": "2022-11-15T20:26:34.748Z"
   },
   {
    "duration": 142,
    "start_time": "2022-11-15T20:26:34.753Z"
   },
   {
    "duration": 27,
    "start_time": "2022-11-15T20:26:34.899Z"
   },
   {
    "duration": 12,
    "start_time": "2022-11-15T20:26:34.928Z"
   },
   {
    "duration": 14,
    "start_time": "2022-11-15T20:26:34.942Z"
   },
   {
    "duration": 14,
    "start_time": "2022-11-15T20:26:34.957Z"
   },
   {
    "duration": 4,
    "start_time": "2022-11-15T20:26:34.972Z"
   },
   {
    "duration": 56,
    "start_time": "2022-11-15T20:26:34.978Z"
   },
   {
    "duration": 12,
    "start_time": "2022-11-15T20:26:35.036Z"
   },
   {
    "duration": 18,
    "start_time": "2022-11-15T20:26:35.050Z"
   },
   {
    "duration": 7,
    "start_time": "2022-11-15T20:26:35.070Z"
   },
   {
    "duration": 40,
    "start_time": "2022-11-15T20:26:35.079Z"
   },
   {
    "duration": 15,
    "start_time": "2022-11-15T20:26:35.120Z"
   },
   {
    "duration": 20,
    "start_time": "2022-11-15T20:26:38.119Z"
   },
   {
    "duration": 22,
    "start_time": "2022-11-15T20:27:09.896Z"
   },
   {
    "duration": 123,
    "start_time": "2022-11-15T20:28:26.657Z"
   },
   {
    "duration": 17,
    "start_time": "2022-11-15T20:35:23.618Z"
   },
   {
    "duration": 18,
    "start_time": "2022-11-15T20:35:30.481Z"
   },
   {
    "duration": 21,
    "start_time": "2022-11-15T20:35:47.869Z"
   },
   {
    "duration": 19,
    "start_time": "2022-11-15T20:36:03.570Z"
   },
   {
    "duration": 24,
    "start_time": "2022-11-15T20:36:37.394Z"
   },
   {
    "duration": 177,
    "start_time": "2022-11-15T20:38:16.346Z"
   },
   {
    "duration": 116,
    "start_time": "2022-11-15T20:38:32.898Z"
   },
   {
    "duration": 20,
    "start_time": "2022-11-15T20:38:56.373Z"
   },
   {
    "duration": 22,
    "start_time": "2022-11-15T20:39:44.248Z"
   },
   {
    "duration": 95,
    "start_time": "2022-11-15T20:39:48.676Z"
   },
   {
    "duration": 97,
    "start_time": "2022-11-15T20:40:09.746Z"
   },
   {
    "duration": 194,
    "start_time": "2022-11-15T20:40:20.779Z"
   },
   {
    "duration": 26,
    "start_time": "2022-11-15T20:41:20.450Z"
   },
   {
    "duration": 23,
    "start_time": "2022-11-15T20:41:38.268Z"
   },
   {
    "duration": 24,
    "start_time": "2022-11-15T20:41:51.666Z"
   },
   {
    "duration": 29,
    "start_time": "2022-11-15T20:42:17.824Z"
   },
   {
    "duration": 30,
    "start_time": "2022-11-15T20:45:05.610Z"
   },
   {
    "duration": 23,
    "start_time": "2022-11-15T20:45:18.438Z"
   },
   {
    "duration": 22,
    "start_time": "2022-11-15T20:45:22.443Z"
   },
   {
    "duration": 28,
    "start_time": "2022-11-15T20:45:47.854Z"
   },
   {
    "duration": 27,
    "start_time": "2022-11-15T20:46:06.041Z"
   },
   {
    "duration": 28,
    "start_time": "2022-11-15T20:46:20.164Z"
   },
   {
    "duration": 24,
    "start_time": "2022-11-15T20:47:41.150Z"
   },
   {
    "duration": 23,
    "start_time": "2022-11-15T20:47:51.982Z"
   },
   {
    "duration": 22,
    "start_time": "2022-11-15T20:53:46.571Z"
   },
   {
    "duration": 22,
    "start_time": "2022-11-15T20:55:56.378Z"
   },
   {
    "duration": 23,
    "start_time": "2022-11-15T20:56:26.677Z"
   },
   {
    "duration": 22,
    "start_time": "2022-11-15T20:56:52.427Z"
   },
   {
    "duration": 4,
    "start_time": "2022-11-15T20:58:04.778Z"
   },
   {
    "duration": 5,
    "start_time": "2022-11-15T20:58:40.921Z"
   },
   {
    "duration": 5,
    "start_time": "2022-11-15T20:58:47.784Z"
   },
   {
    "duration": 5,
    "start_time": "2022-11-15T20:59:02.128Z"
   },
   {
    "duration": 24,
    "start_time": "2022-11-15T21:00:00.502Z"
   },
   {
    "duration": 24,
    "start_time": "2022-11-15T21:00:22.331Z"
   },
   {
    "duration": 26,
    "start_time": "2022-11-15T21:00:38.500Z"
   },
   {
    "duration": 23,
    "start_time": "2022-11-15T21:02:01.736Z"
   },
   {
    "duration": 23,
    "start_time": "2022-11-15T21:02:12.550Z"
   },
   {
    "duration": 23,
    "start_time": "2022-11-15T21:02:40.688Z"
   },
   {
    "duration": 5,
    "start_time": "2022-11-15T21:03:16.147Z"
   },
   {
    "duration": 23,
    "start_time": "2022-11-15T21:03:48.392Z"
   },
   {
    "duration": 5,
    "start_time": "2022-11-15T21:04:26.693Z"
   },
   {
    "duration": 4,
    "start_time": "2022-11-15T21:04:43.421Z"
   },
   {
    "duration": 4,
    "start_time": "2022-11-15T21:05:11.012Z"
   },
   {
    "duration": 25,
    "start_time": "2022-11-15T21:05:49.337Z"
   },
   {
    "duration": 22,
    "start_time": "2022-11-15T21:08:03.929Z"
   },
   {
    "duration": 24,
    "start_time": "2022-11-15T21:08:14.312Z"
   },
   {
    "duration": 25,
    "start_time": "2022-11-15T21:10:36.474Z"
   },
   {
    "duration": 26,
    "start_time": "2022-11-15T21:11:33.421Z"
   },
   {
    "duration": 27,
    "start_time": "2022-11-15T21:11:38.719Z"
   },
   {
    "duration": 33,
    "start_time": "2022-11-15T21:12:14.724Z"
   },
   {
    "duration": 25,
    "start_time": "2022-11-15T21:12:43.839Z"
   },
   {
    "duration": 30,
    "start_time": "2022-11-15T21:13:09.936Z"
   },
   {
    "duration": 25,
    "start_time": "2022-11-15T21:13:13.676Z"
   },
   {
    "duration": 25,
    "start_time": "2022-11-15T21:13:21.085Z"
   },
   {
    "duration": 169,
    "start_time": "2022-11-15T21:13:38.992Z"
   },
   {
    "duration": 1425,
    "start_time": "2022-11-15T21:14:30.082Z"
   },
   {
    "duration": 1375,
    "start_time": "2022-11-15T21:15:03.519Z"
   },
   {
    "duration": 121,
    "start_time": "2022-11-15T21:15:30.450Z"
   },
   {
    "duration": 264,
    "start_time": "2022-11-15T21:15:56.596Z"
   },
   {
    "duration": 25,
    "start_time": "2022-11-15T21:18:07.128Z"
   },
   {
    "duration": 133,
    "start_time": "2022-11-15T21:18:17.886Z"
   },
   {
    "duration": 23,
    "start_time": "2022-11-15T21:20:09.532Z"
   },
   {
    "duration": 455,
    "start_time": "2022-11-15T21:20:30.712Z"
   },
   {
    "duration": 407,
    "start_time": "2022-11-15T21:20:42.509Z"
   },
   {
    "duration": 235,
    "start_time": "2022-11-15T21:21:06.146Z"
   },
   {
    "duration": 116,
    "start_time": "2022-11-15T21:21:39.352Z"
   },
   {
    "duration": 114,
    "start_time": "2022-11-15T21:21:46.080Z"
   },
   {
    "duration": 124,
    "start_time": "2022-11-15T21:21:53.815Z"
   },
   {
    "duration": 28,
    "start_time": "2022-11-15T21:22:16.092Z"
   },
   {
    "duration": 27,
    "start_time": "2022-11-15T21:25:06.051Z"
   },
   {
    "duration": 26,
    "start_time": "2022-11-15T21:25:22.596Z"
   },
   {
    "duration": 23,
    "start_time": "2022-11-15T21:25:30.822Z"
   },
   {
    "duration": 24,
    "start_time": "2022-11-15T21:26:02.381Z"
   },
   {
    "duration": 163,
    "start_time": "2022-11-15T21:26:10.108Z"
   },
   {
    "duration": 99,
    "start_time": "2022-11-15T21:29:32.172Z"
   },
   {
    "duration": 133,
    "start_time": "2022-11-15T21:31:44.982Z"
   },
   {
    "duration": 405,
    "start_time": "2022-11-15T21:31:59.183Z"
   },
   {
    "duration": 197,
    "start_time": "2022-11-15T21:32:16.880Z"
   },
   {
    "duration": 176,
    "start_time": "2022-11-15T21:34:31.900Z"
   },
   {
    "duration": 186,
    "start_time": "2022-11-15T21:35:30.920Z"
   },
   {
    "duration": 191,
    "start_time": "2022-11-15T21:36:21.427Z"
   },
   {
    "duration": 191,
    "start_time": "2022-11-15T21:36:57.043Z"
   },
   {
    "duration": 187,
    "start_time": "2022-11-15T21:37:23.454Z"
   },
   {
    "duration": 77,
    "start_time": "2022-11-15T21:39:21.398Z"
   },
   {
    "duration": 77,
    "start_time": "2022-11-15T21:39:53.610Z"
   },
   {
    "duration": 191,
    "start_time": "2022-11-15T21:40:07.933Z"
   },
   {
    "duration": 28,
    "start_time": "2022-11-15T21:40:36.121Z"
   },
   {
    "duration": 29,
    "start_time": "2022-11-15T21:41:09.120Z"
   },
   {
    "duration": 25,
    "start_time": "2022-11-15T21:41:29.499Z"
   },
   {
    "duration": 26,
    "start_time": "2022-11-15T21:42:48.610Z"
   },
   {
    "duration": 215,
    "start_time": "2022-11-15T21:43:11.570Z"
   },
   {
    "duration": 202,
    "start_time": "2022-11-15T21:43:40.100Z"
   },
   {
    "duration": 218,
    "start_time": "2022-11-15T21:43:55.440Z"
   },
   {
    "duration": 300,
    "start_time": "2022-11-15T21:44:30.427Z"
   },
   {
    "duration": 232,
    "start_time": "2022-11-15T21:45:21.590Z"
   },
   {
    "duration": 177,
    "start_time": "2022-11-15T21:45:33.712Z"
   },
   {
    "duration": 215,
    "start_time": "2022-11-15T21:45:41.073Z"
   },
   {
    "duration": 37,
    "start_time": "2022-11-15T21:46:19.735Z"
   },
   {
    "duration": 214,
    "start_time": "2022-11-15T21:46:29.526Z"
   },
   {
    "duration": 149,
    "start_time": "2022-11-15T21:48:42.685Z"
   },
   {
    "duration": 37,
    "start_time": "2022-11-15T21:48:50.849Z"
   },
   {
    "duration": 169,
    "start_time": "2022-11-15T21:48:58.541Z"
   },
   {
    "duration": 35,
    "start_time": "2022-11-15T21:49:19.310Z"
   },
   {
    "duration": 148,
    "start_time": "2022-11-15T21:56:23.922Z"
   },
   {
    "duration": 207,
    "start_time": "2022-11-15T21:56:35.071Z"
   },
   {
    "duration": 148,
    "start_time": "2022-11-15T21:56:48.331Z"
   },
   {
    "duration": 152,
    "start_time": "2022-11-15T21:56:56.850Z"
   },
   {
    "duration": 176,
    "start_time": "2022-11-15T22:01:26.939Z"
   },
   {
    "duration": 168,
    "start_time": "2022-11-15T22:01:42.565Z"
   },
   {
    "duration": 74,
    "start_time": "2022-11-15T22:04:19.387Z"
   },
   {
    "duration": 1140,
    "start_time": "2022-11-16T19:08:09.468Z"
   },
   {
    "duration": 112,
    "start_time": "2022-11-16T19:08:10.610Z"
   },
   {
    "duration": 12,
    "start_time": "2022-11-16T19:08:10.723Z"
   },
   {
    "duration": 3,
    "start_time": "2022-11-16T19:08:10.738Z"
   },
   {
    "duration": 6,
    "start_time": "2022-11-16T19:08:10.743Z"
   },
   {
    "duration": 7,
    "start_time": "2022-11-16T19:08:10.751Z"
   },
   {
    "duration": 12,
    "start_time": "2022-11-16T19:08:10.760Z"
   },
   {
    "duration": 22,
    "start_time": "2022-11-16T19:08:10.773Z"
   },
   {
    "duration": 3,
    "start_time": "2022-11-16T19:08:10.796Z"
   },
   {
    "duration": 18,
    "start_time": "2022-11-16T19:08:10.827Z"
   },
   {
    "duration": 8,
    "start_time": "2022-11-16T19:08:10.846Z"
   },
   {
    "duration": 22,
    "start_time": "2022-11-16T19:08:10.855Z"
   },
   {
    "duration": 8,
    "start_time": "2022-11-16T19:08:10.878Z"
   },
   {
    "duration": 11,
    "start_time": "2022-11-16T19:08:10.888Z"
   },
   {
    "duration": 21,
    "start_time": "2022-11-16T19:08:10.925Z"
   },
   {
    "duration": 10,
    "start_time": "2022-11-16T19:08:10.948Z"
   },
   {
    "duration": 5,
    "start_time": "2022-11-16T19:08:10.960Z"
   },
   {
    "duration": 63,
    "start_time": "2022-11-16T19:08:10.966Z"
   },
   {
    "duration": 48,
    "start_time": "2022-11-16T19:08:11.031Z"
   },
   {
    "duration": 12,
    "start_time": "2022-11-16T19:08:11.081Z"
   },
   {
    "duration": 43,
    "start_time": "2022-11-16T19:08:11.095Z"
   },
   {
    "duration": 24,
    "start_time": "2022-11-16T19:08:11.140Z"
   },
   {
    "duration": 295,
    "start_time": "2022-11-16T19:08:11.166Z"
   },
   {
    "duration": 5,
    "start_time": "2022-11-16T19:08:11.462Z"
   },
   {
    "duration": 7,
    "start_time": "2022-11-16T19:08:11.468Z"
   },
   {
    "duration": 11,
    "start_time": "2022-11-16T19:08:11.477Z"
   },
   {
    "duration": 9,
    "start_time": "2022-11-16T19:08:11.490Z"
   },
   {
    "duration": 40,
    "start_time": "2022-11-16T19:08:11.501Z"
   },
   {
    "duration": 11,
    "start_time": "2022-11-16T19:08:11.542Z"
   },
   {
    "duration": 23,
    "start_time": "2022-11-16T19:08:11.554Z"
   },
   {
    "duration": 170,
    "start_time": "2022-11-16T19:08:11.578Z"
   },
   {
    "duration": 35,
    "start_time": "2022-11-16T19:08:11.749Z"
   },
   {
    "duration": 916,
    "start_time": "2022-11-16T19:08:11.786Z"
   },
   {
    "duration": 23,
    "start_time": "2022-11-16T19:08:12.704Z"
   },
   {
    "duration": 14,
    "start_time": "2022-11-16T19:08:12.729Z"
   },
   {
    "duration": 384,
    "start_time": "2022-11-16T19:08:12.744Z"
   },
   {
    "duration": 323,
    "start_time": "2022-11-16T19:08:13.130Z"
   },
   {
    "duration": 335,
    "start_time": "2022-11-16T19:08:13.455Z"
   },
   {
    "duration": 12,
    "start_time": "2022-11-16T19:08:13.791Z"
   },
   {
    "duration": 5,
    "start_time": "2022-11-16T19:08:13.805Z"
   },
   {
    "duration": 136,
    "start_time": "2022-11-16T19:08:13.811Z"
   },
   {
    "duration": 18,
    "start_time": "2022-11-16T19:08:13.949Z"
   },
   {
    "duration": 12,
    "start_time": "2022-11-16T19:08:13.968Z"
   },
   {
    "duration": 15,
    "start_time": "2022-11-16T19:08:13.981Z"
   },
   {
    "duration": 32,
    "start_time": "2022-11-16T19:08:13.997Z"
   },
   {
    "duration": 3,
    "start_time": "2022-11-16T19:08:14.030Z"
   },
   {
    "duration": 31,
    "start_time": "2022-11-16T19:08:14.034Z"
   },
   {
    "duration": 11,
    "start_time": "2022-11-16T19:08:14.066Z"
   },
   {
    "duration": 10,
    "start_time": "2022-11-16T19:08:14.078Z"
   },
   {
    "duration": 12,
    "start_time": "2022-11-16T19:08:14.090Z"
   },
   {
    "duration": 45,
    "start_time": "2022-11-16T19:08:14.103Z"
   },
   {
    "duration": 11,
    "start_time": "2022-11-16T19:08:14.150Z"
   },
   {
    "duration": 173,
    "start_time": "2022-11-16T19:08:14.162Z"
   },
   {
    "duration": 15,
    "start_time": "2022-11-16T19:08:14.336Z"
   },
   {
    "duration": 4,
    "start_time": "2022-11-16T19:08:14.352Z"
   },
   {
    "duration": 10,
    "start_time": "2022-11-16T19:08:14.357Z"
   },
   {
    "duration": 7,
    "start_time": "2022-11-16T19:08:14.368Z"
   },
   {
    "duration": 7,
    "start_time": "2022-11-16T19:08:14.376Z"
   },
   {
    "duration": 9,
    "start_time": "2022-11-16T19:08:14.384Z"
   },
   {
    "duration": 37,
    "start_time": "2022-11-16T19:08:14.394Z"
   },
   {
    "duration": 6,
    "start_time": "2022-11-16T19:08:14.433Z"
   },
   {
    "duration": 4,
    "start_time": "2022-11-16T19:08:14.441Z"
   },
   {
    "duration": 10,
    "start_time": "2022-11-16T19:08:14.447Z"
   },
   {
    "duration": 16,
    "start_time": "2022-11-16T19:08:14.458Z"
   },
   {
    "duration": 8,
    "start_time": "2022-11-16T19:08:14.476Z"
   },
   {
    "duration": 87,
    "start_time": "2022-11-16T19:14:59.909Z"
   },
   {
    "duration": 117,
    "start_time": "2022-11-17T05:18:57.677Z"
   }
  ],
  "kernelspec": {
   "display_name": "Python 3 (ipykernel)",
   "language": "python",
   "name": "python3"
  },
  "language_info": {
   "codemirror_mode": {
    "name": "ipython",
    "version": 3
   },
   "file_extension": ".py",
   "mimetype": "text/x-python",
   "name": "python",
   "nbconvert_exporter": "python",
   "pygments_lexer": "ipython3",
   "version": "3.9.13"
  },
  "toc": {
   "base_numbering": 1,
   "nav_menu": {},
   "number_sections": true,
   "sideBar": true,
   "skip_h1_title": true,
   "title_cell": "Table of Contents",
   "title_sidebar": "Contents",
   "toc_cell": false,
   "toc_position": {},
   "toc_section_display": true,
   "toc_window_display": false
  }
 },
 "nbformat": 4,
 "nbformat_minor": 4
}
